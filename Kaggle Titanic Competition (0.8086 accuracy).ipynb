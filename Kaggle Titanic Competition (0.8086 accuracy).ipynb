{
 "cells": [
  {
   "cell_type": "code",
   "execution_count": 1,
   "metadata": {},
   "outputs": [],
   "source": [
    "import pandas as pd\n",
    "import numpy as np\n",
    "import matplotlib.pyplot as plt\n",
    "import seaborn as sns\n",
    "from sklearn.metrics import accuracy_score\n",
    "%matplotlib inline\n",
    "sns.set()"
   ]
  },
  {
   "cell_type": "markdown",
   "metadata": {},
   "source": [
    "# Importing Dataset and Concat"
   ]
  },
  {
   "cell_type": "code",
   "execution_count": 2,
   "metadata": {},
   "outputs": [],
   "source": [
    "#importing data\n",
    "df_train=pd.read_csv(r'D:\\Titanic Dataset\\train.csv')\n",
    "df_test=pd.read_csv(r'D:\\Titanic Dataset\\test.csv')"
   ]
  },
  {
   "cell_type": "code",
   "execution_count": 3,
   "metadata": {},
   "outputs": [
    {
     "data": {
      "text/html": [
       "<div>\n",
       "<style scoped>\n",
       "    .dataframe tbody tr th:only-of-type {\n",
       "        vertical-align: middle;\n",
       "    }\n",
       "\n",
       "    .dataframe tbody tr th {\n",
       "        vertical-align: top;\n",
       "    }\n",
       "\n",
       "    .dataframe thead th {\n",
       "        text-align: right;\n",
       "    }\n",
       "</style>\n",
       "<table border=\"1\" class=\"dataframe\">\n",
       "  <thead>\n",
       "    <tr style=\"text-align: right;\">\n",
       "      <th></th>\n",
       "      <th>PassengerId</th>\n",
       "      <th>Survived</th>\n",
       "      <th>Pclass</th>\n",
       "      <th>Name</th>\n",
       "      <th>Sex</th>\n",
       "      <th>Age</th>\n",
       "      <th>SibSp</th>\n",
       "      <th>Parch</th>\n",
       "      <th>Ticket</th>\n",
       "      <th>Fare</th>\n",
       "      <th>Cabin</th>\n",
       "      <th>Embarked</th>\n",
       "    </tr>\n",
       "  </thead>\n",
       "  <tbody>\n",
       "    <tr>\n",
       "      <th>0</th>\n",
       "      <td>1</td>\n",
       "      <td>0</td>\n",
       "      <td>3</td>\n",
       "      <td>Braund, Mr. Owen Harris</td>\n",
       "      <td>male</td>\n",
       "      <td>22.0</td>\n",
       "      <td>1</td>\n",
       "      <td>0</td>\n",
       "      <td>A/5 21171</td>\n",
       "      <td>7.2500</td>\n",
       "      <td>NaN</td>\n",
       "      <td>S</td>\n",
       "    </tr>\n",
       "    <tr>\n",
       "      <th>1</th>\n",
       "      <td>2</td>\n",
       "      <td>1</td>\n",
       "      <td>1</td>\n",
       "      <td>Cumings, Mrs. John Bradley (Florence Briggs Th...</td>\n",
       "      <td>female</td>\n",
       "      <td>38.0</td>\n",
       "      <td>1</td>\n",
       "      <td>0</td>\n",
       "      <td>PC 17599</td>\n",
       "      <td>71.2833</td>\n",
       "      <td>C85</td>\n",
       "      <td>C</td>\n",
       "    </tr>\n",
       "    <tr>\n",
       "      <th>2</th>\n",
       "      <td>3</td>\n",
       "      <td>1</td>\n",
       "      <td>3</td>\n",
       "      <td>Heikkinen, Miss. Laina</td>\n",
       "      <td>female</td>\n",
       "      <td>26.0</td>\n",
       "      <td>0</td>\n",
       "      <td>0</td>\n",
       "      <td>STON/O2. 3101282</td>\n",
       "      <td>7.9250</td>\n",
       "      <td>NaN</td>\n",
       "      <td>S</td>\n",
       "    </tr>\n",
       "    <tr>\n",
       "      <th>3</th>\n",
       "      <td>4</td>\n",
       "      <td>1</td>\n",
       "      <td>1</td>\n",
       "      <td>Futrelle, Mrs. Jacques Heath (Lily May Peel)</td>\n",
       "      <td>female</td>\n",
       "      <td>35.0</td>\n",
       "      <td>1</td>\n",
       "      <td>0</td>\n",
       "      <td>113803</td>\n",
       "      <td>53.1000</td>\n",
       "      <td>C123</td>\n",
       "      <td>S</td>\n",
       "    </tr>\n",
       "    <tr>\n",
       "      <th>4</th>\n",
       "      <td>5</td>\n",
       "      <td>0</td>\n",
       "      <td>3</td>\n",
       "      <td>Allen, Mr. William Henry</td>\n",
       "      <td>male</td>\n",
       "      <td>35.0</td>\n",
       "      <td>0</td>\n",
       "      <td>0</td>\n",
       "      <td>373450</td>\n",
       "      <td>8.0500</td>\n",
       "      <td>NaN</td>\n",
       "      <td>S</td>\n",
       "    </tr>\n",
       "  </tbody>\n",
       "</table>\n",
       "</div>"
      ],
      "text/plain": [
       "   PassengerId  Survived  Pclass  \\\n",
       "0            1         0       3   \n",
       "1            2         1       1   \n",
       "2            3         1       3   \n",
       "3            4         1       1   \n",
       "4            5         0       3   \n",
       "\n",
       "                                                Name     Sex   Age  SibSp  \\\n",
       "0                            Braund, Mr. Owen Harris    male  22.0      1   \n",
       "1  Cumings, Mrs. John Bradley (Florence Briggs Th...  female  38.0      1   \n",
       "2                             Heikkinen, Miss. Laina  female  26.0      0   \n",
       "3       Futrelle, Mrs. Jacques Heath (Lily May Peel)  female  35.0      1   \n",
       "4                           Allen, Mr. William Henry    male  35.0      0   \n",
       "\n",
       "   Parch            Ticket     Fare Cabin Embarked  \n",
       "0      0         A/5 21171   7.2500   NaN        S  \n",
       "1      0          PC 17599  71.2833   C85        C  \n",
       "2      0  STON/O2. 3101282   7.9250   NaN        S  \n",
       "3      0            113803  53.1000  C123        S  \n",
       "4      0            373450   8.0500   NaN        S  "
      ]
     },
     "execution_count": 3,
     "metadata": {},
     "output_type": "execute_result"
    }
   ],
   "source": [
    "df_train.head()"
   ]
  },
  {
   "cell_type": "markdown",
   "metadata": {},
   "source": [
    "### Check the correlation between variables in train set\n",
    " * Survival **strongly** correaltes to **Fare and Pclass**\n",
    " * Survival also correlates to **Age and Parch**"
   ]
  },
  {
   "cell_type": "code",
   "execution_count": 4,
   "metadata": {},
   "outputs": [
    {
     "data": {
      "text/html": [
       "<style  type=\"text/css\" >\n",
       "    #T_52471e4a_6457_11ea_910d_7c67a25688a2row0_col0 {\n",
       "            background-color:  #023858;\n",
       "        }    #T_52471e4a_6457_11ea_910d_7c67a25688a2row0_col1 {\n",
       "            background-color:  #d1d2e6;\n",
       "        }    #T_52471e4a_6457_11ea_910d_7c67a25688a2row0_col2 {\n",
       "            background-color:  #b5c4df;\n",
       "        }    #T_52471e4a_6457_11ea_910d_7c67a25688a2row0_col3 {\n",
       "            background-color:  #c1cae2;\n",
       "        }    #T_52471e4a_6457_11ea_910d_7c67a25688a2row0_col4 {\n",
       "            background-color:  #dddbec;\n",
       "        }    #T_52471e4a_6457_11ea_910d_7c67a25688a2row0_col5 {\n",
       "            background-color:  #e5e1ef;\n",
       "        }    #T_52471e4a_6457_11ea_910d_7c67a25688a2row0_col6 {\n",
       "            background-color:  #abbfdc;\n",
       "        }    #T_52471e4a_6457_11ea_910d_7c67a25688a2row1_col0 {\n",
       "            background-color:  #f8f1f8;\n",
       "        }    #T_52471e4a_6457_11ea_910d_7c67a25688a2row1_col1 {\n",
       "            background-color:  #023858;\n",
       "        }    #T_52471e4a_6457_11ea_910d_7c67a25688a2row1_col2 {\n",
       "            background-color:  #eae6f1;\n",
       "        }    #T_52471e4a_6457_11ea_910d_7c67a25688a2row1_col3 {\n",
       "            background-color:  #d9d8ea;\n",
       "        }    #T_52471e4a_6457_11ea_910d_7c67a25688a2row1_col4 {\n",
       "            background-color:  #d9d8ea;\n",
       "        }    #T_52471e4a_6457_11ea_910d_7c67a25688a2row1_col5 {\n",
       "            background-color:  #d5d5e8;\n",
       "        }    #T_52471e4a_6457_11ea_910d_7c67a25688a2row1_col6 {\n",
       "            background-color:  #69a5cc;\n",
       "        }    #T_52471e4a_6457_11ea_910d_7c67a25688a2row2_col0 {\n",
       "            background-color:  #fcf4fa;\n",
       "        }    #T_52471e4a_6457_11ea_910d_7c67a25688a2row2_col1 {\n",
       "            background-color:  #fff7fb;\n",
       "        }    #T_52471e4a_6457_11ea_910d_7c67a25688a2row2_col2 {\n",
       "            background-color:  #023858;\n",
       "        }    #T_52471e4a_6457_11ea_910d_7c67a25688a2row2_col3 {\n",
       "            background-color:  #fff7fb;\n",
       "        }    #T_52471e4a_6457_11ea_910d_7c67a25688a2row2_col4 {\n",
       "            background-color:  #c0c9e2;\n",
       "        }    #T_52471e4a_6457_11ea_910d_7c67a25688a2row2_col5 {\n",
       "            background-color:  #e1dfed;\n",
       "        }    #T_52471e4a_6457_11ea_910d_7c67a25688a2row2_col6 {\n",
       "            background-color:  #fff7fb;\n",
       "        }    #T_52471e4a_6457_11ea_910d_7c67a25688a2row3_col0 {\n",
       "            background-color:  #f2ecf5;\n",
       "        }    #T_52471e4a_6457_11ea_910d_7c67a25688a2row3_col1 {\n",
       "            background-color:  #dddbec;\n",
       "        }    #T_52471e4a_6457_11ea_910d_7c67a25688a2row3_col2 {\n",
       "            background-color:  #eee8f3;\n",
       "        }    #T_52471e4a_6457_11ea_910d_7c67a25688a2row3_col3 {\n",
       "            background-color:  #023858;\n",
       "        }    #T_52471e4a_6457_11ea_910d_7c67a25688a2row3_col4 {\n",
       "            background-color:  #fff7fb;\n",
       "        }    #T_52471e4a_6457_11ea_910d_7c67a25688a2row3_col5 {\n",
       "            background-color:  #fff7fb;\n",
       "        }    #T_52471e4a_6457_11ea_910d_7c67a25688a2row3_col6 {\n",
       "            background-color:  #96b6d7;\n",
       "        }    #T_52471e4a_6457_11ea_910d_7c67a25688a2row4_col0 {\n",
       "            background-color:  #fff7fb;\n",
       "        }    #T_52471e4a_6457_11ea_910d_7c67a25688a2row4_col1 {\n",
       "            background-color:  #d6d6e9;\n",
       "        }    #T_52471e4a_6457_11ea_910d_7c67a25688a2row4_col2 {\n",
       "            background-color:  #99b8d8;\n",
       "        }    #T_52471e4a_6457_11ea_910d_7c67a25688a2row4_col3 {\n",
       "            background-color:  #f8f1f8;\n",
       "        }    #T_52471e4a_6457_11ea_910d_7c67a25688a2row4_col4 {\n",
       "            background-color:  #023858;\n",
       "        }    #T_52471e4a_6457_11ea_910d_7c67a25688a2row4_col5 {\n",
       "            background-color:  #6fa7ce;\n",
       "        }    #T_52471e4a_6457_11ea_910d_7c67a25688a2row4_col6 {\n",
       "            background-color:  #84b0d3;\n",
       "        }    #T_52471e4a_6457_11ea_910d_7c67a25688a2row5_col0 {\n",
       "            background-color:  #f7f0f7;\n",
       "        }    #T_52471e4a_6457_11ea_910d_7c67a25688a2row5_col1 {\n",
       "            background-color:  #bbc7e0;\n",
       "        }    #T_52471e4a_6457_11ea_910d_7c67a25688a2row5_col2 {\n",
       "            background-color:  #a9bfdc;\n",
       "        }    #T_52471e4a_6457_11ea_910d_7c67a25688a2row5_col3 {\n",
       "            background-color:  #ebe6f2;\n",
       "        }    #T_52471e4a_6457_11ea_910d_7c67a25688a2row5_col4 {\n",
       "            background-color:  #5a9ec9;\n",
       "        }    #T_52471e4a_6457_11ea_910d_7c67a25688a2row5_col5 {\n",
       "            background-color:  #023858;\n",
       "        }    #T_52471e4a_6457_11ea_910d_7c67a25688a2row5_col6 {\n",
       "            background-color:  #76aad0;\n",
       "        }    #T_52471e4a_6457_11ea_910d_7c67a25688a2row6_col0 {\n",
       "            background-color:  #f5eff6;\n",
       "        }    #T_52471e4a_6457_11ea_910d_7c67a25688a2row6_col1 {\n",
       "            background-color:  #8bb2d4;\n",
       "        }    #T_52471e4a_6457_11ea_910d_7c67a25688a2row6_col2 {\n",
       "            background-color:  #fff7fb;\n",
       "        }    #T_52471e4a_6457_11ea_910d_7c67a25688a2row6_col3 {\n",
       "            background-color:  #b3c3de;\n",
       "        }    #T_52471e4a_6457_11ea_910d_7c67a25688a2row6_col4 {\n",
       "            background-color:  #acc0dd;\n",
       "        }    #T_52471e4a_6457_11ea_910d_7c67a25688a2row6_col5 {\n",
       "            background-color:  #b1c2de;\n",
       "        }    #T_52471e4a_6457_11ea_910d_7c67a25688a2row6_col6 {\n",
       "            background-color:  #023858;\n",
       "        }</style>  \n",
       "<table id=\"T_52471e4a_6457_11ea_910d_7c67a25688a2\" > \n",
       "<thead>    <tr> \n",
       "        <th class=\"blank level0\" ></th> \n",
       "        <th class=\"col_heading level0 col0\" >PassengerId</th> \n",
       "        <th class=\"col_heading level0 col1\" >Survived</th> \n",
       "        <th class=\"col_heading level0 col2\" >Pclass</th> \n",
       "        <th class=\"col_heading level0 col3\" >Age</th> \n",
       "        <th class=\"col_heading level0 col4\" >SibSp</th> \n",
       "        <th class=\"col_heading level0 col5\" >Parch</th> \n",
       "        <th class=\"col_heading level0 col6\" >Fare</th> \n",
       "    </tr></thead> \n",
       "<tbody>    <tr> \n",
       "        <th id=\"T_52471e4a_6457_11ea_910d_7c67a25688a2level0_row0\" class=\"row_heading level0 row0\" >PassengerId</th> \n",
       "        <td id=\"T_52471e4a_6457_11ea_910d_7c67a25688a2row0_col0\" class=\"data row0 col0\" >1</td> \n",
       "        <td id=\"T_52471e4a_6457_11ea_910d_7c67a25688a2row0_col1\" class=\"data row0 col1\" >-0.00500666</td> \n",
       "        <td id=\"T_52471e4a_6457_11ea_910d_7c67a25688a2row0_col2\" class=\"data row0 col2\" >-0.035144</td> \n",
       "        <td id=\"T_52471e4a_6457_11ea_910d_7c67a25688a2row0_col3\" class=\"data row0 col3\" >0.0368472</td> \n",
       "        <td id=\"T_52471e4a_6457_11ea_910d_7c67a25688a2row0_col4\" class=\"data row0 col4\" >-0.0575268</td> \n",
       "        <td id=\"T_52471e4a_6457_11ea_910d_7c67a25688a2row0_col5\" class=\"data row0 col5\" >-0.00165201</td> \n",
       "        <td id=\"T_52471e4a_6457_11ea_910d_7c67a25688a2row0_col6\" class=\"data row0 col6\" >0.0126582</td> \n",
       "    </tr>    <tr> \n",
       "        <th id=\"T_52471e4a_6457_11ea_910d_7c67a25688a2level0_row1\" class=\"row_heading level0 row1\" >Survived</th> \n",
       "        <td id=\"T_52471e4a_6457_11ea_910d_7c67a25688a2row1_col0\" class=\"data row1 col0\" >-0.00500666</td> \n",
       "        <td id=\"T_52471e4a_6457_11ea_910d_7c67a25688a2row1_col1\" class=\"data row1 col1\" >1</td> \n",
       "        <td id=\"T_52471e4a_6457_11ea_910d_7c67a25688a2row1_col2\" class=\"data row1 col2\" >-0.338481</td> \n",
       "        <td id=\"T_52471e4a_6457_11ea_910d_7c67a25688a2row1_col3\" class=\"data row1 col3\" >-0.0772211</td> \n",
       "        <td id=\"T_52471e4a_6457_11ea_910d_7c67a25688a2row1_col4\" class=\"data row1 col4\" >-0.0353225</td> \n",
       "        <td id=\"T_52471e4a_6457_11ea_910d_7c67a25688a2row1_col5\" class=\"data row1 col5\" >0.0816294</td> \n",
       "        <td id=\"T_52471e4a_6457_11ea_910d_7c67a25688a2row1_col6\" class=\"data row1 col6\" >0.257307</td> \n",
       "    </tr>    <tr> \n",
       "        <th id=\"T_52471e4a_6457_11ea_910d_7c67a25688a2level0_row2\" class=\"row_heading level0 row2\" >Pclass</th> \n",
       "        <td id=\"T_52471e4a_6457_11ea_910d_7c67a25688a2row2_col0\" class=\"data row2 col0\" >-0.035144</td> \n",
       "        <td id=\"T_52471e4a_6457_11ea_910d_7c67a25688a2row2_col1\" class=\"data row2 col1\" >-0.338481</td> \n",
       "        <td id=\"T_52471e4a_6457_11ea_910d_7c67a25688a2row2_col2\" class=\"data row2 col2\" >1</td> \n",
       "        <td id=\"T_52471e4a_6457_11ea_910d_7c67a25688a2row2_col3\" class=\"data row2 col3\" >-0.369226</td> \n",
       "        <td id=\"T_52471e4a_6457_11ea_910d_7c67a25688a2row2_col4\" class=\"data row2 col4\" >0.0830814</td> \n",
       "        <td id=\"T_52471e4a_6457_11ea_910d_7c67a25688a2row2_col5\" class=\"data row2 col5\" >0.0184427</td> \n",
       "        <td id=\"T_52471e4a_6457_11ea_910d_7c67a25688a2row2_col6\" class=\"data row2 col6\" >-0.5495</td> \n",
       "    </tr>    <tr> \n",
       "        <th id=\"T_52471e4a_6457_11ea_910d_7c67a25688a2level0_row3\" class=\"row_heading level0 row3\" >Age</th> \n",
       "        <td id=\"T_52471e4a_6457_11ea_910d_7c67a25688a2row3_col0\" class=\"data row3 col0\" >0.0368472</td> \n",
       "        <td id=\"T_52471e4a_6457_11ea_910d_7c67a25688a2row3_col1\" class=\"data row3 col1\" >-0.0772211</td> \n",
       "        <td id=\"T_52471e4a_6457_11ea_910d_7c67a25688a2row3_col2\" class=\"data row3 col2\" >-0.369226</td> \n",
       "        <td id=\"T_52471e4a_6457_11ea_910d_7c67a25688a2row3_col3\" class=\"data row3 col3\" >1</td> \n",
       "        <td id=\"T_52471e4a_6457_11ea_910d_7c67a25688a2row3_col4\" class=\"data row3 col4\" >-0.308247</td> \n",
       "        <td id=\"T_52471e4a_6457_11ea_910d_7c67a25688a2row3_col5\" class=\"data row3 col5\" >-0.189119</td> \n",
       "        <td id=\"T_52471e4a_6457_11ea_910d_7c67a25688a2row3_col6\" class=\"data row3 col6\" >0.0960667</td> \n",
       "    </tr>    <tr> \n",
       "        <th id=\"T_52471e4a_6457_11ea_910d_7c67a25688a2level0_row4\" class=\"row_heading level0 row4\" >SibSp</th> \n",
       "        <td id=\"T_52471e4a_6457_11ea_910d_7c67a25688a2row4_col0\" class=\"data row4 col0\" >-0.0575268</td> \n",
       "        <td id=\"T_52471e4a_6457_11ea_910d_7c67a25688a2row4_col1\" class=\"data row4 col1\" >-0.0353225</td> \n",
       "        <td id=\"T_52471e4a_6457_11ea_910d_7c67a25688a2row4_col2\" class=\"data row4 col2\" >0.0830814</td> \n",
       "        <td id=\"T_52471e4a_6457_11ea_910d_7c67a25688a2row4_col3\" class=\"data row4 col3\" >-0.308247</td> \n",
       "        <td id=\"T_52471e4a_6457_11ea_910d_7c67a25688a2row4_col4\" class=\"data row4 col4\" >1</td> \n",
       "        <td id=\"T_52471e4a_6457_11ea_910d_7c67a25688a2row4_col5\" class=\"data row4 col5\" >0.414838</td> \n",
       "        <td id=\"T_52471e4a_6457_11ea_910d_7c67a25688a2row4_col6\" class=\"data row4 col6\" >0.159651</td> \n",
       "    </tr>    <tr> \n",
       "        <th id=\"T_52471e4a_6457_11ea_910d_7c67a25688a2level0_row5\" class=\"row_heading level0 row5\" >Parch</th> \n",
       "        <td id=\"T_52471e4a_6457_11ea_910d_7c67a25688a2row5_col0\" class=\"data row5 col0\" >-0.00165201</td> \n",
       "        <td id=\"T_52471e4a_6457_11ea_910d_7c67a25688a2row5_col1\" class=\"data row5 col1\" >0.0816294</td> \n",
       "        <td id=\"T_52471e4a_6457_11ea_910d_7c67a25688a2row5_col2\" class=\"data row5 col2\" >0.0184427</td> \n",
       "        <td id=\"T_52471e4a_6457_11ea_910d_7c67a25688a2row5_col3\" class=\"data row5 col3\" >-0.189119</td> \n",
       "        <td id=\"T_52471e4a_6457_11ea_910d_7c67a25688a2row5_col4\" class=\"data row5 col4\" >0.414838</td> \n",
       "        <td id=\"T_52471e4a_6457_11ea_910d_7c67a25688a2row5_col5\" class=\"data row5 col5\" >1</td> \n",
       "        <td id=\"T_52471e4a_6457_11ea_910d_7c67a25688a2row5_col6\" class=\"data row5 col6\" >0.216225</td> \n",
       "    </tr>    <tr> \n",
       "        <th id=\"T_52471e4a_6457_11ea_910d_7c67a25688a2level0_row6\" class=\"row_heading level0 row6\" >Fare</th> \n",
       "        <td id=\"T_52471e4a_6457_11ea_910d_7c67a25688a2row6_col0\" class=\"data row6 col0\" >0.0126582</td> \n",
       "        <td id=\"T_52471e4a_6457_11ea_910d_7c67a25688a2row6_col1\" class=\"data row6 col1\" >0.257307</td> \n",
       "        <td id=\"T_52471e4a_6457_11ea_910d_7c67a25688a2row6_col2\" class=\"data row6 col2\" >-0.5495</td> \n",
       "        <td id=\"T_52471e4a_6457_11ea_910d_7c67a25688a2row6_col3\" class=\"data row6 col3\" >0.0960667</td> \n",
       "        <td id=\"T_52471e4a_6457_11ea_910d_7c67a25688a2row6_col4\" class=\"data row6 col4\" >0.159651</td> \n",
       "        <td id=\"T_52471e4a_6457_11ea_910d_7c67a25688a2row6_col5\" class=\"data row6 col5\" >0.216225</td> \n",
       "        <td id=\"T_52471e4a_6457_11ea_910d_7c67a25688a2row6_col6\" class=\"data row6 col6\" >1</td> \n",
       "    </tr></tbody> \n",
       "</table> "
      ],
      "text/plain": [
       "<pandas.io.formats.style.Styler at 0x22809984eb8>"
      ]
     },
     "execution_count": 4,
     "metadata": {},
     "output_type": "execute_result"
    }
   ],
   "source": [
    "df_train.corr().style.background_gradient()"
   ]
  },
  {
   "cell_type": "markdown",
   "metadata": {},
   "source": [
    "### Exploratory Data Analysis based on correlations\n",
    " - Female overall survived rate are much higher than male (even compare 3rd class femle with 1st class male)\n",
    " - Under the same gender,1st class have much higher survived rate than other classes\n",
    " - ?Generate an idea if it's possible to add new feature to categorize them into four groups: **1st_male**,**other_male**,**3rd_female**,**other_female**"
   ]
  },
  {
   "cell_type": "code",
   "execution_count": 5,
   "metadata": {},
   "outputs": [
    {
     "name": "stderr",
     "output_type": "stream",
     "text": [
      "C:\\Users\\wangchu\\Anaconda3\\lib\\site-packages\\scipy\\stats\\stats.py:1713: FutureWarning: Using a non-tuple sequence for multidimensional indexing is deprecated; use `arr[tuple(seq)]` instead of `arr[seq]`. In the future this will be interpreted as an array index, `arr[np.array(seq)]`, which will result either in an error or a different result.\n",
      "  return np.add.reduce(sorted[indexer] * weights, axis=axis) / sumval\n"
     ]
    },
    {
     "data": {
      "text/plain": [
       "<matplotlib.axes._subplots.AxesSubplot at 0x22809dfd240>"
      ]
     },
     "execution_count": 5,
     "metadata": {},
     "output_type": "execute_result"
    },
    {
     "data": {
      "image/png": "[encoded data removed]",
      "text/plain": [
       "<Figure size 432x288 with 1 Axes>"
      ]
     },
     "metadata": {
      "needs_background": "light"
     },
     "output_type": "display_data"
    }
   ],
   "source": [
    "sns.barplot(x='Sex',y='Survived',hue='Pclass',data=df_train,alpha=0.8)"
   ]
  },
  {
   "cell_type": "code",
   "execution_count": 6,
   "metadata": {},
   "outputs": [
    {
     "name": "stderr",
     "output_type": "stream",
     "text": [
      "C:\\Users\\wangchu\\Anaconda3\\lib\\site-packages\\scipy\\stats\\stats.py:1713: FutureWarning: Using a non-tuple sequence for multidimensional indexing is deprecated; use `arr[tuple(seq)]` instead of `arr[seq]`. In the future this will be interpreted as an array index, `arr[np.array(seq)]`, which will result either in an error or a different result.\n",
      "  return np.add.reduce(sorted[indexer] * weights, axis=axis) / sumval\n"
     ]
    },
    {
     "data": {
      "text/plain": [
       "<matplotlib.axes._subplots.AxesSubplot at 0x2280a1838d0>"
      ]
     },
     "execution_count": 6,
     "metadata": {},
     "output_type": "execute_result"
    },
    {
     "data": {
      "image/png": "[encoded data removed]",
      "text/plain": [
       "<Figure size 432x288 with 1 Axes>"
      ]
     },
     "metadata": {
      "needs_background": "light"
     },
     "output_type": "display_data"
    }
   ],
   "source": [
    "sns.barplot(x='Pclass',y='Survived',hue='Sex',data=df_train,alpha=0.8)"
   ]
  },
  {
   "cell_type": "code",
   "execution_count": 7,
   "metadata": {},
   "outputs": [],
   "source": [
    "survived_df_train=df_train['Survived'].values"
   ]
  },
  {
   "cell_type": "code",
   "execution_count": 8,
   "metadata": {},
   "outputs": [],
   "source": [
    "df_train_=df_train.drop(columns=['Survived'])"
   ]
  },
  {
   "cell_type": "code",
   "execution_count": 9,
   "metadata": {},
   "outputs": [],
   "source": [
    "#concat two tables\n",
    "data=pd.concat(objs=[df_train_,df_test])"
   ]
  },
  {
   "cell_type": "code",
   "execution_count": 10,
   "metadata": {},
   "outputs": [
    {
     "name": "stdout",
     "output_type": "stream",
     "text": [
      "<class 'pandas.core.frame.DataFrame'>\n",
      "Int64Index: 1309 entries, 0 to 417\n",
      "Data columns (total 11 columns):\n",
      "PassengerId    1309 non-null int64\n",
      "Pclass         1309 non-null int64\n",
      "Name           1309 non-null object\n",
      "Sex            1309 non-null object\n",
      "Age            1046 non-null float64\n",
      "SibSp          1309 non-null int64\n",
      "Parch          1309 non-null int64\n",
      "Ticket         1309 non-null object\n",
      "Fare           1308 non-null float64\n",
      "Cabin          295 non-null object\n",
      "Embarked       1307 non-null object\n",
      "dtypes: float64(2), int64(4), object(5)\n",
      "memory usage: 122.7+ KB\n"
     ]
    }
   ],
   "source": [
    "data.info()"
   ]
  },
  {
   "cell_type": "markdown",
   "metadata": {},
   "source": [
    "### Missing Values\n",
    " - Age:1046 out of 1309\n",
    " - Fare: 1308 out of 1309\n",
    " - Cabin: 295 out of 1309\n",
    " - Embarked: 1307 out of 1309"
   ]
  },
  {
   "cell_type": "markdown",
   "metadata": {},
   "source": [
    "### Re-check correlations between variables in concat set\n",
    " * Age is negatively related to Pclass\n",
    " * Fare is strong positively related to Parch\n",
    " * Parch adn SibSp have a high positve correlation"
   ]
  },
  {
   "cell_type": "code",
   "execution_count": 11,
   "metadata": {},
   "outputs": [
    {
     "data": {
      "text/html": [
       "<style  type=\"text/css\" >\n",
       "    #T_52aeece8_6457_11ea_961d_7c67a25688a2row0_col0 {\n",
       "            background-color:  #023858;\n",
       "        }    #T_52aeece8_6457_11ea_961d_7c67a25688a2row0_col1 {\n",
       "            background-color:  #b4c4df;\n",
       "        }    #T_52aeece8_6457_11ea_961d_7c67a25688a2row0_col2 {\n",
       "            background-color:  #bcc7e1;\n",
       "        }    #T_52aeece8_6457_11ea_961d_7c67a25688a2row0_col3 {\n",
       "            background-color:  #e7e3f0;\n",
       "        }    #T_52aeece8_6457_11ea_961d_7c67a25688a2row0_col4 {\n",
       "            background-color:  #e9e5f1;\n",
       "        }    #T_52aeece8_6457_11ea_961d_7c67a25688a2row0_col5 {\n",
       "            background-color:  #a5bddb;\n",
       "        }    #T_52aeece8_6457_11ea_961d_7c67a25688a2row1_col0 {\n",
       "            background-color:  #fdf5fa;\n",
       "        }    #T_52aeece8_6457_11ea_961d_7c67a25688a2row1_col1 {\n",
       "            background-color:  #023858;\n",
       "        }    #T_52aeece8_6457_11ea_961d_7c67a25688a2row1_col2 {\n",
       "            background-color:  #fff7fb;\n",
       "        }    #T_52aeece8_6457_11ea_961d_7c67a25688a2row1_col3 {\n",
       "            background-color:  #d2d2e7;\n",
       "        }    #T_52aeece8_6457_11ea_961d_7c67a25688a2row1_col4 {\n",
       "            background-color:  #e7e3f0;\n",
       "        }    #T_52aeece8_6457_11ea_961d_7c67a25688a2row1_col5 {\n",
       "            background-color:  #fff7fb;\n",
       "        }    #T_52aeece8_6457_11ea_961d_7c67a25688a2row2_col0 {\n",
       "            background-color:  #f3edf5;\n",
       "        }    #T_52aeece8_6457_11ea_961d_7c67a25688a2row2_col1 {\n",
       "            background-color:  #f1ebf4;\n",
       "        }    #T_52aeece8_6457_11ea_961d_7c67a25688a2row2_col2 {\n",
       "            background-color:  #023858;\n",
       "        }    #T_52aeece8_6457_11ea_961d_7c67a25688a2row2_col3 {\n",
       "            background-color:  #fff7fb;\n",
       "        }    #T_52aeece8_6457_11ea_961d_7c67a25688a2row2_col4 {\n",
       "            background-color:  #fff7fb;\n",
       "        }    #T_52aeece8_6457_11ea_961d_7c67a25688a2row2_col5 {\n",
       "            background-color:  #7eadd1;\n",
       "        }    #T_52aeece8_6457_11ea_961d_7c67a25688a2row3_col0 {\n",
       "            background-color:  #fff7fb;\n",
       "        }    #T_52aeece8_6457_11ea_961d_7c67a25688a2row3_col1 {\n",
       "            background-color:  #9ebad9;\n",
       "        }    #T_52aeece8_6457_11ea_961d_7c67a25688a2row3_col2 {\n",
       "            background-color:  #eee8f3;\n",
       "        }    #T_52aeece8_6457_11ea_961d_7c67a25688a2row3_col3 {\n",
       "            background-color:  #023858;\n",
       "        }    #T_52aeece8_6457_11ea_961d_7c67a25688a2row3_col4 {\n",
       "            background-color:  #86b0d3;\n",
       "        }    #T_52aeece8_6457_11ea_961d_7c67a25688a2row3_col5 {\n",
       "            background-color:  #83afd3;\n",
       "        }    #T_52aeece8_6457_11ea_961d_7c67a25688a2row4_col0 {\n",
       "            background-color:  #f6eff7;\n",
       "        }    #T_52aeece8_6457_11ea_961d_7c67a25688a2row4_col1 {\n",
       "            background-color:  #a8bedc;\n",
       "        }    #T_52aeece8_6457_11ea_961d_7c67a25688a2row4_col2 {\n",
       "            background-color:  #e0dded;\n",
       "        }    #T_52aeece8_6457_11ea_961d_7c67a25688a2row4_col3 {\n",
       "            background-color:  #75a9cf;\n",
       "        }    #T_52aeece8_6457_11ea_961d_7c67a25688a2row4_col4 {\n",
       "            background-color:  #023858;\n",
       "        }    #T_52aeece8_6457_11ea_961d_7c67a25688a2row4_col5 {\n",
       "            background-color:  #73a9cf;\n",
       "        }    #T_52aeece8_6457_11ea_961d_7c67a25688a2row5_col0 {\n",
       "            background-color:  #f2ecf5;\n",
       "        }    #T_52aeece8_6457_11ea_961d_7c67a25688a2row5_col1 {\n",
       "            background-color:  #fff7fb;\n",
       "        }    #T_52aeece8_6457_11ea_961d_7c67a25688a2row5_col2 {\n",
       "            background-color:  #96b6d7;\n",
       "        }    #T_52aeece8_6457_11ea_961d_7c67a25688a2row5_col3 {\n",
       "            background-color:  #b7c5df;\n",
       "        }    #T_52aeece8_6457_11ea_961d_7c67a25688a2row5_col4 {\n",
       "            background-color:  #b8c6e0;\n",
       "        }    #T_52aeece8_6457_11ea_961d_7c67a25688a2row5_col5 {\n",
       "            background-color:  #023858;\n",
       "        }</style>  \n",
       "<table id=\"T_52aeece8_6457_11ea_961d_7c67a25688a2\" > \n",
       "<thead>    <tr> \n",
       "        <th class=\"blank level0\" ></th> \n",
       "        <th class=\"col_heading level0 col0\" >PassengerId</th> \n",
       "        <th class=\"col_heading level0 col1\" >Pclass</th> \n",
       "        <th class=\"col_heading level0 col2\" >Age</th> \n",
       "        <th class=\"col_heading level0 col3\" >SibSp</th> \n",
       "        <th class=\"col_heading level0 col4\" >Parch</th> \n",
       "        <th class=\"col_heading level0 col5\" >Fare</th> \n",
       "    </tr></thead> \n",
       "<tbody>    <tr> \n",
       "        <th id=\"T_52aeece8_6457_11ea_961d_7c67a25688a2level0_row0\" class=\"row_heading level0 row0\" >PassengerId</th> \n",
       "        <td id=\"T_52aeece8_6457_11ea_961d_7c67a25688a2row0_col0\" class=\"data row0 col0\" >1</td> \n",
       "        <td id=\"T_52aeece8_6457_11ea_961d_7c67a25688a2row0_col1\" class=\"data row0 col1\" >-0.0383544</td> \n",
       "        <td id=\"T_52aeece8_6457_11ea_961d_7c67a25688a2row0_col2\" class=\"data row0 col2\" >0.0288145</td> \n",
       "        <td id=\"T_52aeece8_6457_11ea_961d_7c67a25688a2row0_col3\" class=\"data row0 col3\" >-0.055224</td> \n",
       "        <td id=\"T_52aeece8_6457_11ea_961d_7c67a25688a2row0_col4\" class=\"data row0 col4\" >0.00894208</td> \n",
       "        <td id=\"T_52aeece8_6457_11ea_961d_7c67a25688a2row0_col5\" class=\"data row0 col5\" >0.0314285</td> \n",
       "    </tr>    <tr> \n",
       "        <th id=\"T_52aeece8_6457_11ea_961d_7c67a25688a2level0_row1\" class=\"row_heading level0 row1\" >Pclass</th> \n",
       "        <td id=\"T_52aeece8_6457_11ea_961d_7c67a25688a2row1_col0\" class=\"data row1 col0\" >-0.0383544</td> \n",
       "        <td id=\"T_52aeece8_6457_11ea_961d_7c67a25688a2row1_col1\" class=\"data row1 col1\" >1</td> \n",
       "        <td id=\"T_52aeece8_6457_11ea_961d_7c67a25688a2row1_col2\" class=\"data row1 col2\" >-0.408106</td> \n",
       "        <td id=\"T_52aeece8_6457_11ea_961d_7c67a25688a2row1_col3\" class=\"data row1 col3\" >0.060832</td> \n",
       "        <td id=\"T_52aeece8_6457_11ea_961d_7c67a25688a2row1_col4\" class=\"data row1 col4\" >0.0183222</td> \n",
       "        <td id=\"T_52aeece8_6457_11ea_961d_7c67a25688a2row1_col5\" class=\"data row1 col5\" >-0.558629</td> \n",
       "    </tr>    <tr> \n",
       "        <th id=\"T_52aeece8_6457_11ea_961d_7c67a25688a2level0_row2\" class=\"row_heading level0 row2\" >Age</th> \n",
       "        <td id=\"T_52aeece8_6457_11ea_961d_7c67a25688a2row2_col0\" class=\"data row2 col0\" >0.0288145</td> \n",
       "        <td id=\"T_52aeece8_6457_11ea_961d_7c67a25688a2row2_col1\" class=\"data row2 col1\" >-0.408106</td> \n",
       "        <td id=\"T_52aeece8_6457_11ea_961d_7c67a25688a2row2_col2\" class=\"data row2 col2\" >1</td> \n",
       "        <td id=\"T_52aeece8_6457_11ea_961d_7c67a25688a2row2_col3\" class=\"data row2 col3\" >-0.243699</td> \n",
       "        <td id=\"T_52aeece8_6457_11ea_961d_7c67a25688a2row2_col4\" class=\"data row2 col4\" >-0.150917</td> \n",
       "        <td id=\"T_52aeece8_6457_11ea_961d_7c67a25688a2row2_col5\" class=\"data row2 col5\" >0.17874</td> \n",
       "    </tr>    <tr> \n",
       "        <th id=\"T_52aeece8_6457_11ea_961d_7c67a25688a2level0_row3\" class=\"row_heading level0 row3\" >SibSp</th> \n",
       "        <td id=\"T_52aeece8_6457_11ea_961d_7c67a25688a2row3_col0\" class=\"data row3 col0\" >-0.055224</td> \n",
       "        <td id=\"T_52aeece8_6457_11ea_961d_7c67a25688a2row3_col1\" class=\"data row3 col1\" >0.060832</td> \n",
       "        <td id=\"T_52aeece8_6457_11ea_961d_7c67a25688a2row3_col2\" class=\"data row3 col2\" >-0.243699</td> \n",
       "        <td id=\"T_52aeece8_6457_11ea_961d_7c67a25688a2row3_col3\" class=\"data row3 col3\" >1</td> \n",
       "        <td id=\"T_52aeece8_6457_11ea_961d_7c67a25688a2row3_col4\" class=\"data row3 col4\" >0.373587</td> \n",
       "        <td id=\"T_52aeece8_6457_11ea_961d_7c67a25688a2row3_col5\" class=\"data row3 col5\" >0.160238</td> \n",
       "    </tr>    <tr> \n",
       "        <th id=\"T_52aeece8_6457_11ea_961d_7c67a25688a2level0_row4\" class=\"row_heading level0 row4\" >Parch</th> \n",
       "        <td id=\"T_52aeece8_6457_11ea_961d_7c67a25688a2row4_col0\" class=\"data row4 col0\" >0.00894208</td> \n",
       "        <td id=\"T_52aeece8_6457_11ea_961d_7c67a25688a2row4_col1\" class=\"data row4 col1\" >0.0183222</td> \n",
       "        <td id=\"T_52aeece8_6457_11ea_961d_7c67a25688a2row4_col2\" class=\"data row4 col2\" >-0.150917</td> \n",
       "        <td id=\"T_52aeece8_6457_11ea_961d_7c67a25688a2row4_col3\" class=\"data row4 col3\" >0.373587</td> \n",
       "        <td id=\"T_52aeece8_6457_11ea_961d_7c67a25688a2row4_col4\" class=\"data row4 col4\" >1</td> \n",
       "        <td id=\"T_52aeece8_6457_11ea_961d_7c67a25688a2row4_col5\" class=\"data row4 col5\" >0.221539</td> \n",
       "    </tr>    <tr> \n",
       "        <th id=\"T_52aeece8_6457_11ea_961d_7c67a25688a2level0_row5\" class=\"row_heading level0 row5\" >Fare</th> \n",
       "        <td id=\"T_52aeece8_6457_11ea_961d_7c67a25688a2row5_col0\" class=\"data row5 col0\" >0.0314285</td> \n",
       "        <td id=\"T_52aeece8_6457_11ea_961d_7c67a25688a2row5_col1\" class=\"data row5 col1\" >-0.558629</td> \n",
       "        <td id=\"T_52aeece8_6457_11ea_961d_7c67a25688a2row5_col2\" class=\"data row5 col2\" >0.17874</td> \n",
       "        <td id=\"T_52aeece8_6457_11ea_961d_7c67a25688a2row5_col3\" class=\"data row5 col3\" >0.160238</td> \n",
       "        <td id=\"T_52aeece8_6457_11ea_961d_7c67a25688a2row5_col4\" class=\"data row5 col4\" >0.221539</td> \n",
       "        <td id=\"T_52aeece8_6457_11ea_961d_7c67a25688a2row5_col5\" class=\"data row5 col5\" >1</td> \n",
       "    </tr></tbody> \n",
       "</table> "
      ],
      "text/plain": [
       "<pandas.io.formats.style.Styler at 0x2280a20fbe0>"
      ]
     },
     "execution_count": 11,
     "metadata": {},
     "output_type": "execute_result"
    }
   ],
   "source": [
    "#View the correlation between variables\n",
    "data.corr().style.background_gradient()"
   ]
  },
  {
   "cell_type": "markdown",
   "metadata": {},
   "source": [
    "# Handling Missing Value"
   ]
  },
  {
   "cell_type": "markdown",
   "metadata": {},
   "source": [
    "### 1.Age\n",
    "* Missing Age value can be imputed by Medain Age of each Pclass,elderly might be rich and bought higher class\n",
    "* Also,adding sex to this group may reflect more detailed information and give more accurate prediction "
   ]
  },
  {
   "cell_type": "code",
   "execution_count": 12,
   "metadata": {},
   "outputs": [
    {
     "data": {
      "text/plain": [
       "Pclass  Sex   \n",
       "1       female    36.0\n",
       "        male      42.0\n",
       "2       female    28.0\n",
       "        male      29.5\n",
       "3       female    22.0\n",
       "        male      25.0\n",
       "Name: Age, dtype: float64"
      ]
     },
     "execution_count": 12,
     "metadata": {},
     "output_type": "execute_result"
    }
   ],
   "source": [
    "#group data by Pclass and Sex,view the median of each group\n",
    "data.groupby(['Pclass','Sex'])['Age'].median()"
   ]
  },
  {
   "cell_type": "markdown",
   "metadata": {},
   "source": [
    "#### 1.1Filling the missing Age values\n",
    "- First filling the NaN with 0\n",
    "- Second using for loop to iterate each sample and transform 0 to the target median age above\n",
    "- Warning: NaN should be filled with other distinctable things and process it!!"
   ]
  },
  {
   "cell_type": "code",
   "execution_count": 13,
   "metadata": {},
   "outputs": [],
   "source": [
    "data['Age']=data['Age'].fillna(0)\n",
    "filled_Age=[]\n",
    "for i,k,g in zip(data['Pclass'],data['Sex'],data['Age']):\n",
    "    if g!=0:\n",
    "        filled_Age.append(g)\n",
    "    elif i==1 and k=='female':\n",
    "        filled_Age.append(36)\n",
    "    elif i==1 and k=='male':\n",
    "        filled_Age.append(42)\n",
    "    elif i==2 and k=='female':\n",
    "        filled_Age.append(28)\n",
    "    elif i==2 and k=='male':\n",
    "        filled_Age.append(29.5)\n",
    "    elif i==3 and k=='female':\n",
    "        filled_Age.append(22)\n",
    "    else:\n",
    "        filled_Age.append(25)"
   ]
  },
  {
   "cell_type": "code",
   "execution_count": 14,
   "metadata": {},
   "outputs": [
    {
     "data": {
      "text/plain": [
       "1309"
      ]
     },
     "execution_count": 14,
     "metadata": {},
     "output_type": "execute_result"
    }
   ],
   "source": [
    "len(filled_Age)"
   ]
  },
  {
   "cell_type": "code",
   "execution_count": 15,
   "metadata": {},
   "outputs": [],
   "source": [
    "data['Age']=filled_Age"
   ]
  },
  {
   "cell_type": "code",
   "execution_count": 16,
   "metadata": {},
   "outputs": [
    {
     "name": "stdout",
     "output_type": "stream",
     "text": [
      "<class 'pandas.core.frame.DataFrame'>\n",
      "Int64Index: 1309 entries, 0 to 417\n",
      "Data columns (total 11 columns):\n",
      "PassengerId    1309 non-null int64\n",
      "Pclass         1309 non-null int64\n",
      "Name           1309 non-null object\n",
      "Sex            1309 non-null object\n",
      "Age            1309 non-null float64\n",
      "SibSp          1309 non-null int64\n",
      "Parch          1309 non-null int64\n",
      "Ticket         1309 non-null object\n",
      "Fare           1308 non-null float64\n",
      "Cabin          295 non-null object\n",
      "Embarked       1307 non-null object\n",
      "dtypes: float64(2), int64(4), object(5)\n",
      "memory usage: 122.7+ KB\n"
     ]
    }
   ],
   "source": [
    "data.info()"
   ]
  },
  {
   "cell_type": "markdown",
   "metadata": {},
   "source": [
    "### 2.Embarked\n",
    " - These two women have the same Ticket Number and in the same Cabin\n",
    " - They are on board together"
   ]
  },
  {
   "cell_type": "code",
   "execution_count": 17,
   "metadata": {},
   "outputs": [
    {
     "data": {
      "text/html": [
       "<div>\n",
       "<style scoped>\n",
       "    .dataframe tbody tr th:only-of-type {\n",
       "        vertical-align: middle;\n",
       "    }\n",
       "\n",
       "    .dataframe tbody tr th {\n",
       "        vertical-align: top;\n",
       "    }\n",
       "\n",
       "    .dataframe thead th {\n",
       "        text-align: right;\n",
       "    }\n",
       "</style>\n",
       "<table border=\"1\" class=\"dataframe\">\n",
       "  <thead>\n",
       "    <tr style=\"text-align: right;\">\n",
       "      <th></th>\n",
       "      <th>PassengerId</th>\n",
       "      <th>Pclass</th>\n",
       "      <th>Name</th>\n",
       "      <th>Sex</th>\n",
       "      <th>Age</th>\n",
       "      <th>SibSp</th>\n",
       "      <th>Parch</th>\n",
       "      <th>Ticket</th>\n",
       "      <th>Fare</th>\n",
       "      <th>Cabin</th>\n",
       "      <th>Embarked</th>\n",
       "    </tr>\n",
       "  </thead>\n",
       "  <tbody>\n",
       "    <tr>\n",
       "      <th>61</th>\n",
       "      <td>62</td>\n",
       "      <td>1</td>\n",
       "      <td>Icard, Miss. Amelie</td>\n",
       "      <td>female</td>\n",
       "      <td>38.0</td>\n",
       "      <td>0</td>\n",
       "      <td>0</td>\n",
       "      <td>113572</td>\n",
       "      <td>80.0</td>\n",
       "      <td>B28</td>\n",
       "      <td>NaN</td>\n",
       "    </tr>\n",
       "    <tr>\n",
       "      <th>829</th>\n",
       "      <td>830</td>\n",
       "      <td>1</td>\n",
       "      <td>Stone, Mrs. George Nelson (Martha Evelyn)</td>\n",
       "      <td>female</td>\n",
       "      <td>62.0</td>\n",
       "      <td>0</td>\n",
       "      <td>0</td>\n",
       "      <td>113572</td>\n",
       "      <td>80.0</td>\n",
       "      <td>B28</td>\n",
       "      <td>NaN</td>\n",
       "    </tr>\n",
       "  </tbody>\n",
       "</table>\n",
       "</div>"
      ],
      "text/plain": [
       "     PassengerId  Pclass                                       Name     Sex  \\\n",
       "61            62       1                        Icard, Miss. Amelie  female   \n",
       "829          830       1  Stone, Mrs. George Nelson (Martha Evelyn)  female   \n",
       "\n",
       "      Age  SibSp  Parch  Ticket  Fare Cabin Embarked  \n",
       "61   38.0      0      0  113572  80.0   B28      NaN  \n",
       "829  62.0      0      0  113572  80.0   B28      NaN  "
      ]
     },
     "execution_count": 17,
     "metadata": {},
     "output_type": "execute_result"
    }
   ],
   "source": [
    "data[data['Embarked'].isnull()]"
   ]
  },
  {
   "cell_type": "code",
   "execution_count": 18,
   "metadata": {},
   "outputs": [],
   "source": [
    "data['Embarked']=data['Embarked'].fillna('S')"
   ]
  },
  {
   "cell_type": "markdown",
   "metadata": {},
   "source": [
    "### 3.Fare\n",
    " - We can impute the median Fare of Pclass3 male"
   ]
  },
  {
   "cell_type": "code",
   "execution_count": 19,
   "metadata": {},
   "outputs": [
    {
     "data": {
      "text/html": [
       "<div>\n",
       "<style scoped>\n",
       "    .dataframe tbody tr th:only-of-type {\n",
       "        vertical-align: middle;\n",
       "    }\n",
       "\n",
       "    .dataframe tbody tr th {\n",
       "        vertical-align: top;\n",
       "    }\n",
       "\n",
       "    .dataframe thead th {\n",
       "        text-align: right;\n",
       "    }\n",
       "</style>\n",
       "<table border=\"1\" class=\"dataframe\">\n",
       "  <thead>\n",
       "    <tr style=\"text-align: right;\">\n",
       "      <th></th>\n",
       "      <th>PassengerId</th>\n",
       "      <th>Pclass</th>\n",
       "      <th>Name</th>\n",
       "      <th>Sex</th>\n",
       "      <th>Age</th>\n",
       "      <th>SibSp</th>\n",
       "      <th>Parch</th>\n",
       "      <th>Ticket</th>\n",
       "      <th>Fare</th>\n",
       "      <th>Cabin</th>\n",
       "      <th>Embarked</th>\n",
       "    </tr>\n",
       "  </thead>\n",
       "  <tbody>\n",
       "    <tr>\n",
       "      <th>152</th>\n",
       "      <td>1044</td>\n",
       "      <td>3</td>\n",
       "      <td>Storey, Mr. Thomas</td>\n",
       "      <td>male</td>\n",
       "      <td>60.5</td>\n",
       "      <td>0</td>\n",
       "      <td>0</td>\n",
       "      <td>3701</td>\n",
       "      <td>NaN</td>\n",
       "      <td>NaN</td>\n",
       "      <td>S</td>\n",
       "    </tr>\n",
       "  </tbody>\n",
       "</table>\n",
       "</div>"
      ],
      "text/plain": [
       "     PassengerId  Pclass                Name   Sex   Age  SibSp  Parch Ticket  \\\n",
       "152         1044       3  Storey, Mr. Thomas  male  60.5      0      0   3701   \n",
       "\n",
       "     Fare Cabin Embarked  \n",
       "152   NaN   NaN        S  "
      ]
     },
     "execution_count": 19,
     "metadata": {},
     "output_type": "execute_result"
    }
   ],
   "source": [
    "data[data['Fare'].isnull()]"
   ]
  },
  {
   "cell_type": "code",
   "execution_count": 20,
   "metadata": {},
   "outputs": [
    {
     "data": {
      "text/plain": [
       "Pclass  Sex   \n",
       "1       female    80.92915\n",
       "        male      49.50420\n",
       "2       female    23.00000\n",
       "        male      13.00000\n",
       "3       female    10.48960\n",
       "        male       7.89580\n",
       "Name: Fare, dtype: float64"
      ]
     },
     "execution_count": 20,
     "metadata": {},
     "output_type": "execute_result"
    }
   ],
   "source": [
    "data.groupby(['Pclass','Sex'])['Fare'].median()"
   ]
  },
  {
   "cell_type": "code",
   "execution_count": 21,
   "metadata": {},
   "outputs": [],
   "source": [
    "data['Fare']=data['Fare'].fillna(7.9)"
   ]
  },
  {
   "cell_type": "markdown",
   "metadata": {},
   "source": [
    "### 4.Cabin\n",
    " - Impute missing value as 'M'\n",
    " - Extract the Capital letter of each Cabin number\n",
    " - Add new column named 'Cabin_level' both for df_train and data\n",
    " - Compute the survived rate of df_train\n",
    " - Add new column named 'Cabin_bySurvived' according to the survived rate"
   ]
  },
  {
   "cell_type": "code",
   "execution_count": 22,
   "metadata": {},
   "outputs": [],
   "source": [
    "data['Cabin']=data['Cabin'].fillna('M')"
   ]
  },
  {
   "cell_type": "code",
   "execution_count": 23,
   "metadata": {},
   "outputs": [],
   "source": [
    "cabin_level=[]\n",
    "for i in data['Cabin']:\n",
    "    cabin_level.append(i[:1])"
   ]
  },
  {
   "cell_type": "code",
   "execution_count": 24,
   "metadata": {},
   "outputs": [
    {
     "data": {
      "text/plain": [
       "1309"
      ]
     },
     "execution_count": 24,
     "metadata": {},
     "output_type": "execute_result"
    }
   ],
   "source": [
    "len(cabin_level)"
   ]
  },
  {
   "cell_type": "code",
   "execution_count": 25,
   "metadata": {},
   "outputs": [],
   "source": [
    "data['Cabin_level']=cabin_level"
   ]
  },
  {
   "cell_type": "code",
   "execution_count": 26,
   "metadata": {},
   "outputs": [
    {
     "data": {
      "text/plain": [
       "<matplotlib.axes._subplots.AxesSubplot at 0x2280a247d68>"
      ]
     },
     "execution_count": 26,
     "metadata": {},
     "output_type": "execute_result"
    },
    {
     "data": {
      "image/png": "[encoded data removed]",
      "text/plain": [
       "<Figure size 432x288 with 1 Axes>"
      ]
     },
     "metadata": {
      "needs_background": "light"
     },
     "output_type": "display_data"
    }
   ],
   "source": [
    "sns.countplot(x='Cabin_level',data=data)"
   ]
  },
  {
   "cell_type": "code",
   "execution_count": 27,
   "metadata": {},
   "outputs": [],
   "source": [
    "#add new column 'Cabin_level' to df_train\n",
    "df_train['Cabin']=df_train['Cabin'].fillna('M')\n",
    "cabin_level_df_train=[]\n",
    "for i in df_train['Cabin']:\n",
    "    cabin_level_df_train.append(i[:1])\n",
    "    \n",
    "df_train['Cabin_level']=cabin_level_df_train"
   ]
  },
  {
   "cell_type": "code",
   "execution_count": 28,
   "metadata": {},
   "outputs": [
    {
     "data": {
      "text/plain": [
       "Cabin_level  Survived\n",
       "A            0             8\n",
       "             1             7\n",
       "B            1            35\n",
       "             0            12\n",
       "C            1            35\n",
       "             0            24\n",
       "D            1            25\n",
       "             0             8\n",
       "E            1            24\n",
       "             0             8\n",
       "F            1             8\n",
       "             0             5\n",
       "G            0             2\n",
       "             1             2\n",
       "M            0           481\n",
       "             1           206\n",
       "T            0             1\n",
       "Name: Survived, dtype: int64"
      ]
     },
     "execution_count": 28,
     "metadata": {},
     "output_type": "execute_result"
    }
   ],
   "source": [
    "#View survived number groupby canbin_level \n",
    "df_train.groupby('Cabin_level')['Survived'].value_counts()"
   ]
  },
  {
   "cell_type": "code",
   "execution_count": 29,
   "metadata": {},
   "outputs": [
    {
     "name": "stdout",
     "output_type": "stream",
     "text": [
      "A cabin survived rate is 0.47\n",
      "B cabin survived rate is 0.74\n",
      "C cabin survived rate is 0.59\n",
      "D cabin survived rate is 0.76\n",
      "E cabin survived rate is 0.75\n",
      "F cabin survived rate is 0.62\n",
      "G cabin survived rate is 0.5\n",
      "M cabin survived rate is 0.3\n",
      "T cabin survived rate is 0.0\n"
     ]
    }
   ],
   "source": [
    "#Calculate survived rate for different cabin_level\n",
    "list_cabin=['A','B','C','D','E','F','G','M','T']\n",
    "for i in list_cabin:\n",
    "    d=df_train[df_train['Cabin_level']==i]\n",
    "    survived_rate=np.round(len(d[d['Survived']==1])/len(d),2)\n",
    "    print('{} cabin survived rate is'.format(i),survived_rate)"
   ]
  },
  {
   "cell_type": "code",
   "execution_count": 30,
   "metadata": {},
   "outputs": [],
   "source": [
    "#Add new columns 'Cabin_bySurvived': indicating the survived possibility according to their cabin\n",
    "data['Cabin_bySurvived']=data['Cabin_level'].replace({'A':'Medium','B':'High','C':'Medium',\n",
    "                                                      'D':'High','E':'High','F':'Medium','G':'Medium','M':'Low','T':'Low'})"
   ]
  },
  {
   "cell_type": "code",
   "execution_count": 31,
   "metadata": {},
   "outputs": [
    {
     "data": {
      "text/html": [
       "<div>\n",
       "<style scoped>\n",
       "    .dataframe tbody tr th:only-of-type {\n",
       "        vertical-align: middle;\n",
       "    }\n",
       "\n",
       "    .dataframe tbody tr th {\n",
       "        vertical-align: top;\n",
       "    }\n",
       "\n",
       "    .dataframe thead th {\n",
       "        text-align: right;\n",
       "    }\n",
       "</style>\n",
       "<table border=\"1\" class=\"dataframe\">\n",
       "  <thead>\n",
       "    <tr style=\"text-align: right;\">\n",
       "      <th></th>\n",
       "      <th>PassengerId</th>\n",
       "      <th>Pclass</th>\n",
       "      <th>Name</th>\n",
       "      <th>Sex</th>\n",
       "      <th>Age</th>\n",
       "      <th>SibSp</th>\n",
       "      <th>Parch</th>\n",
       "      <th>Ticket</th>\n",
       "      <th>Fare</th>\n",
       "      <th>Cabin</th>\n",
       "      <th>Embarked</th>\n",
       "      <th>Cabin_level</th>\n",
       "      <th>Cabin_bySurvived</th>\n",
       "    </tr>\n",
       "  </thead>\n",
       "  <tbody>\n",
       "    <tr>\n",
       "      <th>0</th>\n",
       "      <td>1</td>\n",
       "      <td>3</td>\n",
       "      <td>Braund, Mr. Owen Harris</td>\n",
       "      <td>male</td>\n",
       "      <td>22.0</td>\n",
       "      <td>1</td>\n",
       "      <td>0</td>\n",
       "      <td>A/5 21171</td>\n",
       "      <td>7.2500</td>\n",
       "      <td>M</td>\n",
       "      <td>S</td>\n",
       "      <td>M</td>\n",
       "      <td>Low</td>\n",
       "    </tr>\n",
       "    <tr>\n",
       "      <th>1</th>\n",
       "      <td>2</td>\n",
       "      <td>1</td>\n",
       "      <td>Cumings, Mrs. John Bradley (Florence Briggs Th...</td>\n",
       "      <td>female</td>\n",
       "      <td>38.0</td>\n",
       "      <td>1</td>\n",
       "      <td>0</td>\n",
       "      <td>PC 17599</td>\n",
       "      <td>71.2833</td>\n",
       "      <td>C85</td>\n",
       "      <td>C</td>\n",
       "      <td>C</td>\n",
       "      <td>Medium</td>\n",
       "    </tr>\n",
       "    <tr>\n",
       "      <th>2</th>\n",
       "      <td>3</td>\n",
       "      <td>3</td>\n",
       "      <td>Heikkinen, Miss. Laina</td>\n",
       "      <td>female</td>\n",
       "      <td>26.0</td>\n",
       "      <td>0</td>\n",
       "      <td>0</td>\n",
       "      <td>STON/O2. 3101282</td>\n",
       "      <td>7.9250</td>\n",
       "      <td>M</td>\n",
       "      <td>S</td>\n",
       "      <td>M</td>\n",
       "      <td>Low</td>\n",
       "    </tr>\n",
       "  </tbody>\n",
       "</table>\n",
       "</div>"
      ],
      "text/plain": [
       "   PassengerId  Pclass                                               Name  \\\n",
       "0            1       3                            Braund, Mr. Owen Harris   \n",
       "1            2       1  Cumings, Mrs. John Bradley (Florence Briggs Th...   \n",
       "2            3       3                             Heikkinen, Miss. Laina   \n",
       "\n",
       "      Sex   Age  SibSp  Parch            Ticket     Fare Cabin Embarked  \\\n",
       "0    male  22.0      1      0         A/5 21171   7.2500     M        S   \n",
       "1  female  38.0      1      0          PC 17599  71.2833   C85        C   \n",
       "2  female  26.0      0      0  STON/O2. 3101282   7.9250     M        S   \n",
       "\n",
       "  Cabin_level Cabin_bySurvived  \n",
       "0           M              Low  \n",
       "1           C           Medium  \n",
       "2           M              Low  "
      ]
     },
     "execution_count": 31,
     "metadata": {},
     "output_type": "execute_result"
    }
   ],
   "source": [
    "data.head(3)"
   ]
  },
  {
   "cell_type": "code",
   "execution_count": 32,
   "metadata": {},
   "outputs": [
    {
     "name": "stdout",
     "output_type": "stream",
     "text": [
      "<class 'pandas.core.frame.DataFrame'>\n",
      "Int64Index: 1309 entries, 0 to 417\n",
      "Data columns (total 13 columns):\n",
      "PassengerId         1309 non-null int64\n",
      "Pclass              1309 non-null int64\n",
      "Name                1309 non-null object\n",
      "Sex                 1309 non-null object\n",
      "Age                 1309 non-null float64\n",
      "SibSp               1309 non-null int64\n",
      "Parch               1309 non-null int64\n",
      "Ticket              1309 non-null object\n",
      "Fare                1309 non-null float64\n",
      "Cabin               1309 non-null object\n",
      "Embarked            1309 non-null object\n",
      "Cabin_level         1309 non-null object\n",
      "Cabin_bySurvived    1309 non-null object\n",
      "dtypes: float64(2), int64(4), object(7)\n",
      "memory usage: 183.2+ KB\n"
     ]
    }
   ],
   "source": [
    "data.info()"
   ]
  },
  {
   "cell_type": "markdown",
   "metadata": {},
   "source": [
    "# Feature Engineering"
   ]
  },
  {
   "cell_type": "markdown",
   "metadata": {},
   "source": [
    "### 1.Name\n",
    " - Extract titles from names\n",
    " - Group titles together"
   ]
  },
  {
   "cell_type": "code",
   "execution_count": 33,
   "metadata": {},
   "outputs": [],
   "source": [
    "titles=[]\n",
    "for i in data['Name']:\n",
    "    L=i.split(', ')[-1]\n",
    "    s=L.split('.')[0]\n",
    "    titles.append(s)"
   ]
  },
  {
   "cell_type": "code",
   "execution_count": 34,
   "metadata": {},
   "outputs": [
    {
     "data": {
      "text/plain": [
       "1309"
      ]
     },
     "execution_count": 34,
     "metadata": {},
     "output_type": "execute_result"
    }
   ],
   "source": [
    "len(titles)"
   ]
  },
  {
   "cell_type": "code",
   "execution_count": 35,
   "metadata": {},
   "outputs": [],
   "source": [
    "data['titles']=titles\n",
    "data['titles']=data['titles'].replace({'Miss':'Mrs/Ms/Miss','Mrs':'Mrs/Ms/Miss','Ms':'Mrs/Ms/Miss','Mlle':'Mrs/Ms/Miss'\n",
    "                                       ,'Lady':'Mrs/Ms/Miss','Mme':'Mrs/Ms/Miss','the Countess':'Mrs/Ms/Miss','Dona':'Mrs/Ms/Miss'\n",
    "                                      ,'Dr':'Dr/Military/Noble/Clergy','Col':'Dr/Military/Noble/Clergy','Major':'Dr/Military/Noble/Clergy'\n",
    "                                      ,'Jonkheer':'Dr/Military/Noble/Clergy','Capt':'Dr/Military/Noble/Clergy','Sir':'Dr/Military/Noble/Clergy'\n",
    "                                      ,'Don':'Dr/Military/Noble/Clergy','Rev':'Dr/Military/Noble/Clergy'})\n"
   ]
  },
  {
   "cell_type": "code",
   "execution_count": 36,
   "metadata": {},
   "outputs": [
    {
     "data": {
      "text/plain": [
       "<matplotlib.axes._subplots.AxesSubplot at 0x2280a2d7588>"
      ]
     },
     "execution_count": 36,
     "metadata": {},
     "output_type": "execute_result"
    },
    {
     "data": {
      "image/png": "[encoded data removed]",
      "text/plain": [
       "<Figure size 432x288 with 1 Axes>"
      ]
     },
     "metadata": {
      "needs_background": "light"
     },
     "output_type": "display_data"
    }
   ],
   "source": [
    "sns.countplot(x='titles',data=data)"
   ]
  },
  {
   "cell_type": "markdown",
   "metadata": {},
   "source": [
    "### 2.Fare and Age Binning"
   ]
  },
  {
   "cell_type": "code",
   "execution_count": 37,
   "metadata": {},
   "outputs": [],
   "source": [
    "data['bin_Age']=pd.qcut(data['Age'],q=10,labels=False)\n",
    "data['bin_Fare']=pd.qcut(data['Fare'],q=10,labels=False)"
   ]
  },
  {
   "cell_type": "code",
   "execution_count": 38,
   "metadata": {},
   "outputs": [
    {
     "data": {
      "text/html": [
       "<div>\n",
       "<style scoped>\n",
       "    .dataframe tbody tr th:only-of-type {\n",
       "        vertical-align: middle;\n",
       "    }\n",
       "\n",
       "    .dataframe tbody tr th {\n",
       "        vertical-align: top;\n",
       "    }\n",
       "\n",
       "    .dataframe thead th {\n",
       "        text-align: right;\n",
       "    }\n",
       "</style>\n",
       "<table border=\"1\" class=\"dataframe\">\n",
       "  <thead>\n",
       "    <tr style=\"text-align: right;\">\n",
       "      <th></th>\n",
       "      <th>PassengerId</th>\n",
       "      <th>Pclass</th>\n",
       "      <th>Name</th>\n",
       "      <th>Sex</th>\n",
       "      <th>Age</th>\n",
       "      <th>SibSp</th>\n",
       "      <th>Parch</th>\n",
       "      <th>Ticket</th>\n",
       "      <th>Fare</th>\n",
       "      <th>Cabin</th>\n",
       "      <th>Embarked</th>\n",
       "      <th>Cabin_level</th>\n",
       "      <th>Cabin_bySurvived</th>\n",
       "      <th>titles</th>\n",
       "      <th>bin_Age</th>\n",
       "      <th>bin_Fare</th>\n",
       "    </tr>\n",
       "  </thead>\n",
       "  <tbody>\n",
       "    <tr>\n",
       "      <th>0</th>\n",
       "      <td>1</td>\n",
       "      <td>3</td>\n",
       "      <td>Braund, Mr. Owen Harris</td>\n",
       "      <td>male</td>\n",
       "      <td>22.0</td>\n",
       "      <td>1</td>\n",
       "      <td>0</td>\n",
       "      <td>A/5 21171</td>\n",
       "      <td>7.2500</td>\n",
       "      <td>M</td>\n",
       "      <td>S</td>\n",
       "      <td>M</td>\n",
       "      <td>Low</td>\n",
       "      <td>Mr</td>\n",
       "      <td>2</td>\n",
       "      <td>0</td>\n",
       "    </tr>\n",
       "    <tr>\n",
       "      <th>1</th>\n",
       "      <td>2</td>\n",
       "      <td>1</td>\n",
       "      <td>Cumings, Mrs. John Bradley (Florence Briggs Th...</td>\n",
       "      <td>female</td>\n",
       "      <td>38.0</td>\n",
       "      <td>1</td>\n",
       "      <td>0</td>\n",
       "      <td>PC 17599</td>\n",
       "      <td>71.2833</td>\n",
       "      <td>C85</td>\n",
       "      <td>C</td>\n",
       "      <td>C</td>\n",
       "      <td>Medium</td>\n",
       "      <td>Mrs/Ms/Miss</td>\n",
       "      <td>7</td>\n",
       "      <td>8</td>\n",
       "    </tr>\n",
       "    <tr>\n",
       "      <th>2</th>\n",
       "      <td>3</td>\n",
       "      <td>3</td>\n",
       "      <td>Heikkinen, Miss. Laina</td>\n",
       "      <td>female</td>\n",
       "      <td>26.0</td>\n",
       "      <td>0</td>\n",
       "      <td>0</td>\n",
       "      <td>STON/O2. 3101282</td>\n",
       "      <td>7.9250</td>\n",
       "      <td>M</td>\n",
       "      <td>S</td>\n",
       "      <td>M</td>\n",
       "      <td>Low</td>\n",
       "      <td>Mrs/Ms/Miss</td>\n",
       "      <td>4</td>\n",
       "      <td>2</td>\n",
       "    </tr>\n",
       "  </tbody>\n",
       "</table>\n",
       "</div>"
      ],
      "text/plain": [
       "   PassengerId  Pclass                                               Name  \\\n",
       "0            1       3                            Braund, Mr. Owen Harris   \n",
       "1            2       1  Cumings, Mrs. John Bradley (Florence Briggs Th...   \n",
       "2            3       3                             Heikkinen, Miss. Laina   \n",
       "\n",
       "      Sex   Age  SibSp  Parch            Ticket     Fare Cabin Embarked  \\\n",
       "0    male  22.0      1      0         A/5 21171   7.2500     M        S   \n",
       "1  female  38.0      1      0          PC 17599  71.2833   C85        C   \n",
       "2  female  26.0      0      0  STON/O2. 3101282   7.9250     M        S   \n",
       "\n",
       "  Cabin_level Cabin_bySurvived       titles  bin_Age  bin_Fare  \n",
       "0           M              Low           Mr        2         0  \n",
       "1           C           Medium  Mrs/Ms/Miss        7         8  \n",
       "2           M              Low  Mrs/Ms/Miss        4         2  "
      ]
     },
     "execution_count": 38,
     "metadata": {},
     "output_type": "execute_result"
    }
   ],
   "source": [
    "data.head(3)"
   ]
  },
  {
   "cell_type": "markdown",
   "metadata": {},
   "source": [
    "### 3.Sex-Class Group"
   ]
  },
  {
   "cell_type": "code",
   "execution_count": 39,
   "metadata": {},
   "outputs": [],
   "source": [
    "Sex_class_group=[]\n",
    "for i,g in zip(data['Pclass'],data['Sex']):\n",
    "    if i==1 and g=='male':\n",
    "        Sex_class_group.append('1st_male')\n",
    "    elif i==2 and g=='male':\n",
    "        Sex_class_group.append('other_male')\n",
    "    elif i==3 and g=='male':\n",
    "        Sex_class_group.append('other_male')\n",
    "    elif i==1 and g=='female':\n",
    "        Sex_class_group.append('other_female')\n",
    "    elif i==2 and g=='female':\n",
    "        Sex_class_group.append('other_female')\n",
    "    else:\n",
    "        Sex_class_group.append('3rd_female')\n",
    "    "
   ]
  },
  {
   "cell_type": "code",
   "execution_count": 40,
   "metadata": {},
   "outputs": [],
   "source": [
    "data['Sex_class_group']=Sex_class_group"
   ]
  },
  {
   "cell_type": "markdown",
   "metadata": {},
   "source": [
    "### 3.Family Size"
   ]
  },
  {
   "cell_type": "code",
   "execution_count": 41,
   "metadata": {},
   "outputs": [],
   "source": [
    "data['Family_size']=data['SibSp']+data['Parch']"
   ]
  },
  {
   "cell_type": "code",
   "execution_count": 42,
   "metadata": {},
   "outputs": [
    {
     "data": {
      "text/plain": [
       "<matplotlib.axes._subplots.AxesSubplot at 0x2280a355cc0>"
      ]
     },
     "execution_count": 42,
     "metadata": {},
     "output_type": "execute_result"
    },
    {
     "data": {
      "image/png": "[encoded data removed]",
      "text/plain": [
       "<Figure size 432x288 with 1 Axes>"
      ]
     },
     "metadata": {
      "needs_background": "light"
     },
     "output_type": "display_data"
    }
   ],
   "source": [
    "sns.countplot(x='Family_size',data=data)"
   ]
  },
  {
   "cell_type": "code",
   "execution_count": 43,
   "metadata": {},
   "outputs": [],
   "source": [
    "df_train['Family_size']=df_train['SibSp']+df_train['Parch']"
   ]
  },
  {
   "cell_type": "code",
   "execution_count": 44,
   "metadata": {},
   "outputs": [
    {
     "data": {
      "text/plain": [
       "Family_size  Survived\n",
       "0            0           374\n",
       "             1           163\n",
       "1            1            89\n",
       "             0            72\n",
       "2            1            59\n",
       "             0            43\n",
       "3            1            21\n",
       "             0             8\n",
       "4            0            12\n",
       "             1             3\n",
       "5            0            19\n",
       "             1             3\n",
       "6            0             8\n",
       "             1             4\n",
       "7            0             6\n",
       "10           0             7\n",
       "Name: Survived, dtype: int64"
      ]
     },
     "execution_count": 44,
     "metadata": {},
     "output_type": "execute_result"
    }
   ],
   "source": [
    "df_train.groupby('Family_size')['Survived'].value_counts()"
   ]
  },
  {
   "cell_type": "code",
   "execution_count": 45,
   "metadata": {},
   "outputs": [
    {
     "name": "stdout",
     "output_type": "stream",
     "text": [
      "0-people family survived rate is 0.3\n",
      "1-people family survived rate is 0.55\n",
      "2-people family survived rate is 0.58\n",
      "3-people family survived rate is 0.72\n",
      "4-people family survived rate is 0.2\n",
      "5-people family survived rate is 0.14\n",
      "6-people family survived rate is 0.33\n",
      "7-people family survived rate is 0.0\n",
      "10-people family survived rate is 0.0\n"
     ]
    }
   ],
   "source": [
    "list_family=[0,1,2,3,4,5,6,7,10]\n",
    "for i in list_family:\n",
    "    d=df_train[df_train['Family_size']==i]\n",
    "    survived_rate=np.round(len(d[d['Survived']==1])/len(d),2)\n",
    "    print('{}-people family survived rate is'.format(i),survived_rate)"
   ]
  },
  {
   "cell_type": "code",
   "execution_count": 46,
   "metadata": {},
   "outputs": [],
   "source": [
    "data['Survived_p_byFamily']=data['Family_size'].replace({0:'Low',1:'High',2:'High',3:'High',4:'Low',5:'Low',6:'Low',7:'Low',10:'Low'})"
   ]
  },
  {
   "cell_type": "markdown",
   "metadata": {},
   "source": [
    "# Feature Selection for Building First Model"
   ]
  },
  {
   "cell_type": "code",
   "execution_count": 47,
   "metadata": {},
   "outputs": [
    {
     "data": {
      "text/plain": [
       "Index(['PassengerId', 'Pclass', 'Name', 'Sex', 'Age', 'SibSp', 'Parch',\n",
       "       'Ticket', 'Fare', 'Cabin', 'Embarked', 'Cabin_level',\n",
       "       'Cabin_bySurvived', 'titles', 'bin_Age', 'bin_Fare', 'Sex_class_group',\n",
       "       'Family_size', 'Survived_p_byFamily'],\n",
       "      dtype='object')"
      ]
     },
     "execution_count": 47,
     "metadata": {},
     "output_type": "execute_result"
    }
   ],
   "source": [
    "data.columns"
   ]
  },
  {
   "cell_type": "code",
   "execution_count": 48,
   "metadata": {},
   "outputs": [],
   "source": [
    "data1=data[['Pclass','Sex','SibSp',\n",
    "        'Cabin_level', \n",
    "        'titles', 'bin_Age', 'bin_Fare', 'Family_size',\n",
    "       'Sex_class_group', 'Survived_p_byFamily']]"
   ]
  },
  {
   "cell_type": "code",
   "execution_count": 49,
   "metadata": {},
   "outputs": [
    {
     "data": {
      "text/html": [
       "<div>\n",
       "<style scoped>\n",
       "    .dataframe tbody tr th:only-of-type {\n",
       "        vertical-align: middle;\n",
       "    }\n",
       "\n",
       "    .dataframe tbody tr th {\n",
       "        vertical-align: top;\n",
       "    }\n",
       "\n",
       "    .dataframe thead th {\n",
       "        text-align: right;\n",
       "    }\n",
       "</style>\n",
       "<table border=\"1\" class=\"dataframe\">\n",
       "  <thead>\n",
       "    <tr style=\"text-align: right;\">\n",
       "      <th></th>\n",
       "      <th>Pclass</th>\n",
       "      <th>Sex</th>\n",
       "      <th>SibSp</th>\n",
       "      <th>Cabin_level</th>\n",
       "      <th>titles</th>\n",
       "      <th>bin_Age</th>\n",
       "      <th>bin_Fare</th>\n",
       "      <th>Family_size</th>\n",
       "      <th>Sex_class_group</th>\n",
       "      <th>Survived_p_byFamily</th>\n",
       "    </tr>\n",
       "  </thead>\n",
       "  <tbody>\n",
       "    <tr>\n",
       "      <th>0</th>\n",
       "      <td>3</td>\n",
       "      <td>male</td>\n",
       "      <td>1</td>\n",
       "      <td>M</td>\n",
       "      <td>Mr</td>\n",
       "      <td>2</td>\n",
       "      <td>0</td>\n",
       "      <td>1</td>\n",
       "      <td>other_male</td>\n",
       "      <td>High</td>\n",
       "    </tr>\n",
       "    <tr>\n",
       "      <th>1</th>\n",
       "      <td>1</td>\n",
       "      <td>female</td>\n",
       "      <td>1</td>\n",
       "      <td>C</td>\n",
       "      <td>Mrs/Ms/Miss</td>\n",
       "      <td>7</td>\n",
       "      <td>8</td>\n",
       "      <td>1</td>\n",
       "      <td>other_female</td>\n",
       "      <td>High</td>\n",
       "    </tr>\n",
       "  </tbody>\n",
       "</table>\n",
       "</div>"
      ],
      "text/plain": [
       "   Pclass     Sex  SibSp Cabin_level       titles  bin_Age  bin_Fare  \\\n",
       "0       3    male      1           M           Mr        2         0   \n",
       "1       1  female      1           C  Mrs/Ms/Miss        7         8   \n",
       "\n",
       "   Family_size Sex_class_group Survived_p_byFamily  \n",
       "0            1      other_male                High  \n",
       "1            1    other_female                High  "
      ]
     },
     "execution_count": 49,
     "metadata": {},
     "output_type": "execute_result"
    }
   ],
   "source": [
    "data1.head(2)"
   ]
  },
  {
   "cell_type": "code",
   "execution_count": 50,
   "metadata": {},
   "outputs": [
    {
     "name": "stdout",
     "output_type": "stream",
     "text": [
      "<class 'pandas.core.frame.DataFrame'>\n",
      "Int64Index: 1309 entries, 0 to 417\n",
      "Data columns (total 10 columns):\n",
      "Pclass                 1309 non-null int64\n",
      "Sex                    1309 non-null object\n",
      "SibSp                  1309 non-null int64\n",
      "Cabin_level            1309 non-null object\n",
      "titles                 1309 non-null object\n",
      "bin_Age                1309 non-null int64\n",
      "bin_Fare               1309 non-null int64\n",
      "Family_size            1309 non-null int64\n",
      "Sex_class_group        1309 non-null object\n",
      "Survived_p_byFamily    1309 non-null object\n",
      "dtypes: int64(5), object(5)\n",
      "memory usage: 152.5+ KB\n"
     ]
    }
   ],
   "source": [
    "data1.info()"
   ]
  },
  {
   "cell_type": "code",
   "execution_count": 51,
   "metadata": {},
   "outputs": [
    {
     "name": "stderr",
     "output_type": "stream",
     "text": [
      "C:\\Users\\wangchu\\Anaconda3\\lib\\site-packages\\ipykernel_launcher.py:7: SettingWithCopyWarning: \n",
      "A value is trying to be set on a copy of a slice from a DataFrame.\n",
      "Try using .loc[row_indexer,col_indexer] = value instead\n",
      "\n",
      "See the caveats in the documentation: http://pandas.pydata.org/pandas-docs/stable/indexing.html#indexing-view-versus-copy\n",
      "  import sys\n",
      "C:\\Users\\wangchu\\Anaconda3\\lib\\site-packages\\ipykernel_launcher.py:5: SettingWithCopyWarning: \n",
      "A value is trying to be set on a copy of a slice from a DataFrame.\n",
      "Try using .loc[row_indexer,col_indexer] = value instead\n",
      "\n",
      "See the caveats in the documentation: http://pandas.pydata.org/pandas-docs/stable/indexing.html#indexing-view-versus-copy\n",
      "  \"\"\"\n"
     ]
    }
   ],
   "source": [
    "from sklearn.preprocessing import LabelEncoder\n",
    "le=LabelEncoder()\n",
    "for i in data1.columns:\n",
    "    if data1[i].dtypes=='object':\n",
    "        data1[i]=le.fit_transform(data1[i])\n",
    "    else:\n",
    "        data1[i]=data1[i]"
   ]
  },
  {
   "cell_type": "code",
   "execution_count": 52,
   "metadata": {},
   "outputs": [
    {
     "data": {
      "text/html": [
       "<div>\n",
       "<style scoped>\n",
       "    .dataframe tbody tr th:only-of-type {\n",
       "        vertical-align: middle;\n",
       "    }\n",
       "\n",
       "    .dataframe tbody tr th {\n",
       "        vertical-align: top;\n",
       "    }\n",
       "\n",
       "    .dataframe thead th {\n",
       "        text-align: right;\n",
       "    }\n",
       "</style>\n",
       "<table border=\"1\" class=\"dataframe\">\n",
       "  <thead>\n",
       "    <tr style=\"text-align: right;\">\n",
       "      <th></th>\n",
       "      <th>Pclass</th>\n",
       "      <th>Sex</th>\n",
       "      <th>SibSp</th>\n",
       "      <th>Cabin_level</th>\n",
       "      <th>titles</th>\n",
       "      <th>bin_Age</th>\n",
       "      <th>bin_Fare</th>\n",
       "      <th>Family_size</th>\n",
       "      <th>Sex_class_group</th>\n",
       "      <th>Survived_p_byFamily</th>\n",
       "    </tr>\n",
       "  </thead>\n",
       "  <tbody>\n",
       "    <tr>\n",
       "      <th>0</th>\n",
       "      <td>3</td>\n",
       "      <td>1</td>\n",
       "      <td>1</td>\n",
       "      <td>7</td>\n",
       "      <td>2</td>\n",
       "      <td>2</td>\n",
       "      <td>0</td>\n",
       "      <td>1</td>\n",
       "      <td>3</td>\n",
       "      <td>0</td>\n",
       "    </tr>\n",
       "    <tr>\n",
       "      <th>1</th>\n",
       "      <td>1</td>\n",
       "      <td>0</td>\n",
       "      <td>1</td>\n",
       "      <td>2</td>\n",
       "      <td>3</td>\n",
       "      <td>7</td>\n",
       "      <td>8</td>\n",
       "      <td>1</td>\n",
       "      <td>2</td>\n",
       "      <td>0</td>\n",
       "    </tr>\n",
       "    <tr>\n",
       "      <th>2</th>\n",
       "      <td>3</td>\n",
       "      <td>0</td>\n",
       "      <td>0</td>\n",
       "      <td>7</td>\n",
       "      <td>3</td>\n",
       "      <td>4</td>\n",
       "      <td>2</td>\n",
       "      <td>0</td>\n",
       "      <td>1</td>\n",
       "      <td>1</td>\n",
       "    </tr>\n",
       "  </tbody>\n",
       "</table>\n",
       "</div>"
      ],
      "text/plain": [
       "   Pclass  Sex  SibSp  Cabin_level  titles  bin_Age  bin_Fare  Family_size  \\\n",
       "0       3    1      1            7       2        2         0            1   \n",
       "1       1    0      1            2       3        7         8            1   \n",
       "2       3    0      0            7       3        4         2            0   \n",
       "\n",
       "   Sex_class_group  Survived_p_byFamily  \n",
       "0                3                    0  \n",
       "1                2                    0  \n",
       "2                1                    1  "
      ]
     },
     "execution_count": 52,
     "metadata": {},
     "output_type": "execute_result"
    }
   ],
   "source": [
    "data1.head(3)"
   ]
  },
  {
   "cell_type": "code",
   "execution_count": 53,
   "metadata": {},
   "outputs": [],
   "source": [
    "train_data=data1[:891]\n",
    "test_data=data1[891:]\n",
    "X=train_data.values\n",
    "test=test_data.values\n",
    "y=survived_df_train"
   ]
  },
  {
   "cell_type": "markdown",
   "metadata": {},
   "source": [
    "# Training the First Model"
   ]
  },
  {
   "cell_type": "code",
   "execution_count": 90,
   "metadata": {},
   "outputs": [],
   "source": [
    "from sklearn.ensemble import RandomForestClassifier\n",
    "from sklearn.model_selection import cross_val_score\n",
    "from sklearn.model_selection import RandomizedSearchCV\n",
    "rf=RandomForestClassifier(random_state=1,oob_score=True)"
   ]
  },
  {
   "cell_type": "code",
   "execution_count": 92,
   "metadata": {},
   "outputs": [
    {
     "name": "stdout",
     "output_type": "stream",
     "text": [
      "Tuned RandomForest Parameters: {'n_estimators': 180, 'min_samples_split': 8, 'min_samples_leaf': 5, 'max_features': 'log2', 'max_depth': 6}\n",
      "Training set Best score is: 0.8282828282828283\n",
      "out of bag score: 0.8260381593714927\n"
     ]
    }
   ],
   "source": [
    "param_rf={'max_depth':list(range(3,10,1)),'max_features':['log2','sqrt'],'n_estimators':list(range(20,1000,2)),\n",
    "          'min_samples_leaf':list(range(1,10)),'min_samples_split':list(range(2,10))}\n",
    "rf_cv=RandomizedSearchCV(rf,param_distributions=param_rf,cv=10,scoring='accuracy')\n",
    "rf_cv.fit(X,y)\n",
    "print('Tuned RandomForest Parameters:',rf_cv.best_params_)\n",
    "print('Training set Best score is:',rf_cv.best_score_)\n",
    "print('out of bag score:',rf_cv.best_estimator_.oob_score_)"
   ]
  },
  {
   "cell_type": "markdown",
   "metadata": {},
   "source": [
    "- Apprantly this model is not performing well than those tuned below"
   ]
  },
  {
   "cell_type": "markdown",
   "metadata": {},
   "source": [
    "## -----------------------------------------------------------------------------------------------------------\n",
    "### Model Tuning Iteration\n",
    "#### 1.First, we only tune the n_estimators\n",
    "- Select a range and iterate to find the optimal n_estimators"
   ]
  },
  {
   "cell_type": "code",
   "execution_count": 68,
   "metadata": {},
   "outputs": [
    {
     "name": "stdout",
     "output_type": "stream",
     "text": [
      "0.8070247418000227 152\n"
     ]
    },
    {
     "data": {
      "image/png": "[encoded data removed]",
      "text/plain": [
       "<Figure size 432x288 with 1 Axes>"
      ]
     },
     "metadata": {
      "needs_background": "light"
     },
     "output_type": "display_data"
    }
   ],
   "source": [
    "#Model Tuning n_estimators\n",
    "scores=[]\n",
    "for i in range(140,161):\n",
    "    rf1=RandomForestClassifier(random_state=1,n_estimators=i)\n",
    "    score=cross_val_score(rf1,X,y,cv=10).mean()\n",
    "    scores.append(score)\n",
    "print(max(scores),scores.index(max(scores))+140)\n",
    "plt.plot(range(140,161),scores)\n",
    "plt.show()"
   ]
  },
  {
   "cell_type": "markdown",
   "metadata": {},
   "source": [
    "##### After three rounds iteration n_estimators=152,model performace is the best 0.807"
   ]
  },
  {
   "cell_type": "markdown",
   "metadata": {},
   "source": [
    "#### 2.Second,we use the best n_estimators and tune max_depth\n",
    "- select a range(1,10) and do GridSearchCV to find the optimal params\n",
    "- Also,check out the 'out of bag' score, which signifies the model perfomace on unseen data(out of bag when bootstraping)"
   ]
  },
  {
   "cell_type": "code",
   "execution_count": 88,
   "metadata": {},
   "outputs": [
    {
     "name": "stdout",
     "output_type": "stream",
     "text": [
      "Best Params: {'max_depth': 4}\n",
      "Best Score: 0.8294051627384961\n",
      "out of bag score: 0.8282828282828283\n"
     ]
    }
   ],
   "source": [
    "#Tuning max_depth\n",
    "from sklearn.model_selection import GridSearchCV\n",
    "grid_params_1={'max_depth':range(1,11)}\n",
    "rf2=RandomForestClassifier(n_estimators=152,random_state=1,oob_score=True)\n",
    "grid_rf2=GridSearchCV(rf2,grid_params_1,cv=10)\n",
    "grid_rf2.fit(X,y)\n",
    "print('Best Params:',grid_rf2.best_params_)\n",
    "print('Best Score:',grid_rf2.best_score_)\n",
    "print('out of bag score:',grid_rf2.best_estimator_.oob_score_)"
   ]
  },
  {
   "cell_type": "markdown",
   "metadata": {},
   "source": [
    "- oob_score is approximately equal to cv score, not overfit"
   ]
  },
  {
   "cell_type": "markdown",
   "metadata": {},
   "source": [
    "#### 3.Third, we need to tune min_samples_leaf\n",
    "- We can graph it and visualy see the changes"
   ]
  },
  {
   "cell_type": "code",
   "execution_count": 81,
   "metadata": {},
   "outputs": [
    {
     "name": "stdout",
     "output_type": "stream",
     "text": [
      "0.8305078878674385 3\n"
     ]
    },
    {
     "data": {
      "image/png": "[encoded data removed]",
      "text/plain": [
       "<Figure size 432x288 with 1 Axes>"
      ]
     },
     "metadata": {
      "needs_background": "light"
     },
     "output_type": "display_data"
    }
   ],
   "source": [
    "#Tuning min_samples_leaf\n",
    "scores_2=[]\n",
    "for i in range(1,20):\n",
    "    rf3=RandomForestClassifier(n_estimators=152,max_depth=4,min_samples_leaf=i,random_state=1,oob_score=True)\n",
    "    score2=cross_val_score(rf3,X,y,cv=10).mean()\n",
    "    scores_2.append(score2)\n",
    "print(max(scores_2),scores_2.index(max(scores_2)))\n",
    "plt.plot(range(1,20),scores_2)\n",
    "plt.show()"
   ]
  },
  {
   "cell_type": "code",
   "execution_count": 87,
   "metadata": {},
   "outputs": [
    {
     "name": "stdout",
     "output_type": "stream",
     "text": [
      "Best Params: {'min_samples_leaf': 4}\n",
      "Best Score: 0.8305274971941639\n",
      "out of bag score: 0.8271604938271605\n"
     ]
    }
   ],
   "source": [
    "grid_params_2={'min_samples_leaf':list(range(1,6))}\n",
    "rf3=RandomForestClassifier(n_estimators=152,max_depth=4,random_state=1,oob_score=True)\n",
    "grid_rf3=GridSearchCV(rf3,grid_params_2,cv=10)\n",
    "grid_rf3.fit(X,y)\n",
    "print('Best Params:',grid_rf3.best_params_)\n",
    "print('Best Score:',grid_rf3.best_score_)\n",
    "print('out of bag score:',grid_rf3.best_estimator_.oob_score_)"
   ]
  },
  {
   "cell_type": "code",
   "execution_count": 99,
   "metadata": {},
   "outputs": [
    {
     "name": "stdout",
     "output_type": "stream",
     "text": [
      "cross validation score: 0.8282856656452161\n",
      "out of bag score: 0.8271604938271605\n"
     ]
    }
   ],
   "source": [
    "rf3_model=RandomForestClassifier(n_estimators=152,max_depth=4,random_state=1,oob_score=True,min_samples_leaf=5)\n",
    "rf3_model.fit(X,y)\n",
    "print('cross validation score:',cross_val_score(rf3_model,X,y,cv=10).mean())\n",
    "print('out of bag score:',rf3_model.oob_score_)"
   ]
  },
  {
   "cell_type": "markdown",
   "metadata": {},
   "source": [
    "- min_samples_leaf=4 is a little bit overfitting\n",
    "- min_samples_leaf=5 is better than 4\n",
    "- Tuned min_samples_split=5 accuracy=0.78468"
   ]
  },
  {
   "cell_type": "markdown",
   "metadata": {},
   "source": [
    "#### 4.Forth, we need to tune min_samples_split"
   ]
  },
  {
   "cell_type": "code",
   "execution_count": 120,
   "metadata": {},
   "outputs": [
    {
     "name": "stdout",
     "output_type": "stream",
     "text": [
      "Best Params: {'min_samples_split': 8}\n",
      "Best Score: 0.8316498316498316\n",
      "out of bag score: 0.8271604938271605\n"
     ]
    }
   ],
   "source": [
    "# Tuning min_samples_split\n",
    "grid_params_3={'min_samples_split':list(range(2,10))}\n",
    "rf4=RandomForestClassifier(n_estimators=152,max_depth=4,random_state=1,oob_score=True)\n",
    "grid_rf4=GridSearchCV(rf4,grid_params_3,cv=10)\n",
    "grid_rf4.fit(X,y)\n",
    "print('Best Params:',grid_rf4.best_params_)\n",
    "print('Best Score:',grid_rf4.best_score_)\n",
    "print('out of bag score:',grid_rf4.best_estimator_.oob_score_)"
   ]
  },
  {
   "cell_type": "markdown",
   "metadata": {},
   "source": [
    "- Adding min_samples_split will decrease the training score and return params=2, no change in oob_score,thus meaning model need to be more complex\n",
    "- Tuned min_samples_split=8, accuracy=0.78468"
   ]
  },
  {
   "cell_type": "markdown",
   "metadata": {},
   "source": [
    "#### 5.Fifth, we neee to tune max_features"
   ]
  },
  {
   "cell_type": "code",
   "execution_count": 123,
   "metadata": {},
   "outputs": [
    {
     "name": "stdout",
     "output_type": "stream",
     "text": [
      "0.8316189989785496 3\n"
     ]
    },
    {
     "data": {
      "image/png": "[encoded data removed]",
      "text/plain": [
       "<Figure size 432x288 with 1 Axes>"
      ]
     },
     "metadata": {
      "needs_background": "light"
     },
     "output_type": "display_data"
    }
   ],
   "source": [
    "# Tuning max_features\n",
    "scores=[]\n",
    "for i in range(1,11):\n",
    "    rf5=RandomForestClassifier(n_estimators=152,max_depth=4,min_samples_split=8,random_state=1,max_features=i,oob_score=True)\n",
    "    score=cross_val_score(rf5,X,y,cv=10).mean()\n",
    "    scores.append(score)\n",
    "print(max(scores),scores.index(max(scores))+1)\n",
    "plt.plot(range(1,11),scores)\n",
    "plt.show()"
   ]
  },
  {
   "cell_type": "code",
   "execution_count": 125,
   "metadata": {},
   "outputs": [
    {
     "name": "stdout",
     "output_type": "stream",
     "text": [
      "Best score: 0.8316189989785496\n",
      "out of bag score: 0.8271604938271605\n"
     ]
    }
   ],
   "source": [
    "rf5_model=RandomForestClassifier(n_estimators=152,max_depth=4,min_samples_split=8,random_state=1,max_features=3,oob_score=True)\n",
    "rf5_model.fit(X,y)\n",
    "print('Best score:',cross_val_score(rf5_model,X,y,cv=10).mean())\n",
    "print('out of bag score:',rf5_model.oob_score_)"
   ]
  },
  {
   "cell_type": "markdown",
   "metadata": {},
   "source": [
    "# Evaluating Feature Importances"
   ]
  },
  {
   "cell_type": "code",
   "execution_count": 115,
   "metadata": {},
   "outputs": [
    {
     "data": {
      "image/png": "[encoded data removed]",
      "text/plain": [
       "<Figure size 432x288 with 1 Axes>"
      ]
     },
     "metadata": {
      "needs_background": "light"
     },
     "output_type": "display_data"
    }
   ],
   "source": [
    "model_rf=grid_rf4.best_estimator_\n",
    "importances_rf=pd.Series(model_rf.feature_importances_,index=train_data.columns)\n",
    "sorted_im=importances_rf.sort_values()\n",
    "sorted_im.plot(kind='barh',color='blue')\n",
    "plt.show()"
   ]
  },
  {
   "cell_type": "code",
   "execution_count": 116,
   "metadata": {},
   "outputs": [],
   "source": [
    "from sklearn.model_selection import learning_curve"
   ]
  },
  {
   "cell_type": "code",
   "execution_count": 117,
   "metadata": {},
   "outputs": [],
   "source": [
    "def plot_learning_curve(estimator, title, X, y, ylim=None, cv=None,\n",
    "                        n_jobs=1, train_sizes=np.linspace(.1, 1.0, 5)):\n",
    "    plt.figure()\n",
    "    plt.title(title)\n",
    "    if ylim is not None:\n",
    "        plt.ylim(*ylim)\n",
    "    plt.xlabel(\"Training examples\")\n",
    "    plt.ylabel(\"Score\")\n",
    "    train_sizes, train_scores, test_scores = learning_curve(\n",
    "        estimator, X, y, cv=cv, n_jobs=n_jobs, train_sizes=train_sizes)\n",
    "    train_scores_mean = np.mean(train_scores, axis=1)\n",
    "    train_scores_std = np.std(train_scores, axis=1)\n",
    "    test_scores_mean = np.mean(test_scores, axis=1)\n",
    "    test_scores_std = np.std(test_scores, axis=1)\n",
    "    plt.grid()\n",
    " \n",
    "    plt.fill_between(train_sizes, train_scores_mean - train_scores_std,\n",
    "                     train_scores_mean + train_scores_std, alpha=0.1,\n",
    "                     color=\"r\")\n",
    "    plt.fill_between(train_sizes, test_scores_mean - test_scores_std,\n",
    "                     test_scores_mean + test_scores_std, alpha=0.1, color=\"g\")\n",
    "    plt.plot(train_sizes, train_scores_mean, 'o-', color=\"r\",\n",
    "             label=\"Training score\")\n",
    "    plt.plot(train_sizes, test_scores_mean, 'o-', color=\"g\",\n",
    "             label=\"Cross-validation score\")\n",
    " \n",
    "    plt.legend(loc=\"best\")\n",
    "    return plt"
   ]
  },
  {
   "cell_type": "code",
   "execution_count": 118,
   "metadata": {},
   "outputs": [
    {
     "data": {
      "text/plain": [
       "<module 'matplotlib.pyplot' from 'C:\\\\Users\\\\wangchu\\\\Anaconda3\\\\lib\\\\site-packages\\\\matplotlib\\\\pyplot.py'>"
      ]
     },
     "execution_count": 118,
     "metadata": {},
     "output_type": "execute_result"
    },
    {
     "data": {
      "image/png": "[encoded data removed]",
      "text/plain": [
       "<Figure size 432x288 with 1 Axes>"
      ]
     },
     "metadata": {
      "needs_background": "light"
     },
     "output_type": "display_data"
    }
   ],
   "source": [
    "plot_learning_curve(model_rf, 'RandomForest 1st Model', X, y, ylim=None, cv=5,\n",
    "                        n_jobs=1, train_sizes=np.linspace(.1, 1.0, 5))"
   ]
  },
  {
   "cell_type": "code",
   "execution_count": 104,
   "metadata": {},
   "outputs": [],
   "source": [
    "y_pred=grid_rf2.best_estimator_.predict(test)\n",
    "df_test['Survived']=y_pred\n",
    "df_test[['PassengerId','Survived']].to_csv(r'D:\\Titanic Dataset\\Finalllll.csv',index=False)"
   ]
  },
  {
   "cell_type": "code",
   "execution_count": null,
   "metadata": {},
   "outputs": [],
   "source": []
  },
  {
   "cell_type": "code",
   "execution_count": null,
   "metadata": {},
   "outputs": [],
   "source": []
  }
 ],
 "metadata": {
  "kernelspec": {
   "display_name": "Python 3",
   "language": "python",
   "name": "python3"
  },
  "language_info": {
   "codemirror_mode": {
    "name": "ipython",
    "version": 3
   },
   "file_extension": ".py",
   "mimetype": "text/x-python",
   "name": "python",
   "nbconvert_exporter": "python",
   "pygments_lexer": "ipython3",
   "version": "3.7.0"
  }
 },
 "nbformat": 4,
 "nbformat_minor": 2
}
